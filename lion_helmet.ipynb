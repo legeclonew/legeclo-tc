{
 "cells": [
  {
   "cell_type": "code",
   "execution_count": 1,
   "id": "a80ea061",
   "metadata": {},
   "outputs": [],
   "source": [
    "%%capture\n",
    "%matplotlib notebook\n",
    "#from matplotlib.widgets import Slider\n",
    "from ipywidgets import *\n",
    "import numpy as np\n",
    "import matplotlib.pyplot as plt"
   ]
  },
  {
   "cell_type": "code",
   "execution_count": 2,
   "id": "3a64324a",
   "metadata": {},
   "outputs": [],
   "source": [
    "# Create and plot function\n",
    "cr_default = 30\n",
    "dmg_buff = np.arange(0, 100, 1)\n",
    "\n",
    "def cal_avg_cdmg_mul_break(cr):\n",
    "    return (1 + (dmg_buff+20)/100.0) * (1.3 * cr/100.0 + 1 - cr/100.0)\n",
    "\n",
    "def cal_avg_cdmg_mul_lion(cr):\n",
    "    cr_lion = np.minimum(cr+50, 100)\n",
    "    return (1 + (dmg_buff-20)/100.0) * (1.6 * cr_lion/100.0 + 1 - cr_lion/100.0)\n",
    "\n",
    "def cal_avg_cdmg_mul_lion_break(cr):\n",
    "    cr_lion = np.minimum(cr+50, 100)\n",
    "    return (1 + dmg_buff/100.0) * (1.3 * cr_lion/100.0 + 1 - cr_lion/100.0)\n",
    "\n",
    "def find_intersection_points(f, g):\n",
    "    return np.argwhere(np.diff(np.sign(f - g))).flatten()\n",
    "\n",
    "avg_cdmg_mul_break = cal_avg_cdmg_mul_break(cr_default)\n",
    "avg_cdmg_mul_lion = cal_avg_cdmg_mul_lion(cr_default)\n",
    "avg_cdmg_mul_lion_break = cal_avg_cdmg_mul_lion_break(cr_default)\n",
    "idx = find_intersection_points(avg_cdmg_mul_break, avg_cdmg_mul_lion)"
   ]
  },
  {
   "cell_type": "code",
   "execution_count": 4,
   "id": "16781520",
   "metadata": {},
   "outputs": [
    {
     "data": {
      "application/javascript": [
       "/* Put everything inside the global mpl namespace */\n",
       "window.mpl = {};\n",
       "\n",
       "\n",
       "mpl.get_websocket_type = function() {\n",
       "    if (typeof(WebSocket) !== 'undefined') {\n",
       "        return WebSocket;\n",
       "    } else if (typeof(MozWebSocket) !== 'undefined') {\n",
       "        return MozWebSocket;\n",
       "    } else {\n",
       "        alert('Your browser does not have WebSocket support. ' +\n",
       "              'Please try Chrome, Safari or Firefox ≥ 6. ' +\n",
       "              'Firefox 4 and 5 are also supported but you ' +\n",
       "              'have to enable WebSockets in about:config.');\n",
       "    };\n",
       "}\n",
       "\n",
       "mpl.figure = function(figure_id, websocket, ondownload, parent_element) {\n",
       "    this.id = figure_id;\n",
       "\n",
       "    this.ws = websocket;\n",
       "\n",
       "    this.supports_binary = (this.ws.binaryType != undefined);\n",
       "\n",
       "    if (!this.supports_binary) {\n",
       "        var warnings = document.getElementById(\"mpl-warnings\");\n",
       "        if (warnings) {\n",
       "            warnings.style.display = 'block';\n",
       "            warnings.textContent = (\n",
       "                \"This browser does not support binary websocket messages. \" +\n",
       "                    \"Performance may be slow.\");\n",
       "        }\n",
       "    }\n",
       "\n",
       "    this.imageObj = new Image();\n",
       "\n",
       "    this.context = undefined;\n",
       "    this.message = undefined;\n",
       "    this.canvas = undefined;\n",
       "    this.rubberband_canvas = undefined;\n",
       "    this.rubberband_context = undefined;\n",
       "    this.format_dropdown = undefined;\n",
       "\n",
       "    this.image_mode = 'full';\n",
       "\n",
       "    this.root = $('<div/>');\n",
       "    this._root_extra_style(this.root)\n",
       "    this.root.attr('style', 'display: inline-block');\n",
       "\n",
       "    $(parent_element).append(this.root);\n",
       "\n",
       "    this._init_header(this);\n",
       "    this._init_canvas(this);\n",
       "    this._init_toolbar(this);\n",
       "\n",
       "    var fig = this;\n",
       "\n",
       "    this.waiting = false;\n",
       "\n",
       "    this.ws.onopen =  function () {\n",
       "            fig.send_message(\"supports_binary\", {value: fig.supports_binary});\n",
       "            fig.send_message(\"send_image_mode\", {});\n",
       "            if (mpl.ratio != 1) {\n",
       "                fig.send_message(\"set_dpi_ratio\", {'dpi_ratio': mpl.ratio});\n",
       "            }\n",
       "            fig.send_message(\"refresh\", {});\n",
       "        }\n",
       "\n",
       "    this.imageObj.onload = function() {\n",
       "            if (fig.image_mode == 'full') {\n",
       "                // Full images could contain transparency (where diff images\n",
       "                // almost always do), so we need to clear the canvas so that\n",
       "                // there is no ghosting.\n",
       "                fig.context.clearRect(0, 0, fig.canvas.width, fig.canvas.height);\n",
       "            }\n",
       "            fig.context.drawImage(fig.imageObj, 0, 0);\n",
       "        };\n",
       "\n",
       "    this.imageObj.onunload = function() {\n",
       "        fig.ws.close();\n",
       "    }\n",
       "\n",
       "    this.ws.onmessage = this._make_on_message_function(this);\n",
       "\n",
       "    this.ondownload = ondownload;\n",
       "}\n",
       "\n",
       "mpl.figure.prototype._init_header = function() {\n",
       "    var titlebar = $(\n",
       "        '<div class=\"ui-dialog-titlebar ui-widget-header ui-corner-all ' +\n",
       "        'ui-helper-clearfix\"/>');\n",
       "    var titletext = $(\n",
       "        '<div class=\"ui-dialog-title\" style=\"width: 100%; ' +\n",
       "        'text-align: center; padding: 3px;\"/>');\n",
       "    titlebar.append(titletext)\n",
       "    this.root.append(titlebar);\n",
       "    this.header = titletext[0];\n",
       "}\n",
       "\n",
       "\n",
       "\n",
       "mpl.figure.prototype._canvas_extra_style = function(canvas_div) {\n",
       "\n",
       "}\n",
       "\n",
       "\n",
       "mpl.figure.prototype._root_extra_style = function(canvas_div) {\n",
       "\n",
       "}\n",
       "\n",
       "mpl.figure.prototype._init_canvas = function() {\n",
       "    var fig = this;\n",
       "\n",
       "    var canvas_div = $('<div/>');\n",
       "\n",
       "    canvas_div.attr('style', 'position: relative; clear: both; outline: 0');\n",
       "\n",
       "    function canvas_keyboard_event(event) {\n",
       "        return fig.key_event(event, event['data']);\n",
       "    }\n",
       "\n",
       "    canvas_div.keydown('key_press', canvas_keyboard_event);\n",
       "    canvas_div.keyup('key_release', canvas_keyboard_event);\n",
       "    this.canvas_div = canvas_div\n",
       "    this._canvas_extra_style(canvas_div)\n",
       "    this.root.append(canvas_div);\n",
       "\n",
       "    var canvas = $('<canvas/>');\n",
       "    canvas.addClass('mpl-canvas');\n",
       "    canvas.attr('style', \"left: 0; top: 0; z-index: 0; outline: 0\")\n",
       "\n",
       "    this.canvas = canvas[0];\n",
       "    this.context = canvas[0].getContext(\"2d\");\n",
       "\n",
       "    var backingStore = this.context.backingStorePixelRatio ||\n",
       "\tthis.context.webkitBackingStorePixelRatio ||\n",
       "\tthis.context.mozBackingStorePixelRatio ||\n",
       "\tthis.context.msBackingStorePixelRatio ||\n",
       "\tthis.context.oBackingStorePixelRatio ||\n",
       "\tthis.context.backingStorePixelRatio || 1;\n",
       "\n",
       "    mpl.ratio = (window.devicePixelRatio || 1) / backingStore;\n",
       "\n",
       "    var rubberband = $('<canvas/>');\n",
       "    rubberband.attr('style', \"position: absolute; left: 0; top: 0; z-index: 1;\")\n",
       "\n",
       "    var pass_mouse_events = true;\n",
       "\n",
       "    canvas_div.resizable({\n",
       "        start: function(event, ui) {\n",
       "            pass_mouse_events = false;\n",
       "        },\n",
       "        resize: function(event, ui) {\n",
       "            fig.request_resize(ui.size.width, ui.size.height);\n",
       "        },\n",
       "        stop: function(event, ui) {\n",
       "            pass_mouse_events = true;\n",
       "            fig.request_resize(ui.size.width, ui.size.height);\n",
       "        },\n",
       "    });\n",
       "\n",
       "    function mouse_event_fn(event) {\n",
       "        if (pass_mouse_events)\n",
       "            return fig.mouse_event(event, event['data']);\n",
       "    }\n",
       "\n",
       "    rubberband.mousedown('button_press', mouse_event_fn);\n",
       "    rubberband.mouseup('button_release', mouse_event_fn);\n",
       "    // Throttle sequential mouse events to 1 every 20ms.\n",
       "    rubberband.mousemove('motion_notify', mouse_event_fn);\n",
       "\n",
       "    rubberband.mouseenter('figure_enter', mouse_event_fn);\n",
       "    rubberband.mouseleave('figure_leave', mouse_event_fn);\n",
       "\n",
       "    canvas_div.on(\"wheel\", function (event) {\n",
       "        event = event.originalEvent;\n",
       "        event['data'] = 'scroll'\n",
       "        if (event.deltaY < 0) {\n",
       "            event.step = 1;\n",
       "        } else {\n",
       "            event.step = -1;\n",
       "        }\n",
       "        mouse_event_fn(event);\n",
       "    });\n",
       "\n",
       "    canvas_div.append(canvas);\n",
       "    canvas_div.append(rubberband);\n",
       "\n",
       "    this.rubberband = rubberband;\n",
       "    this.rubberband_canvas = rubberband[0];\n",
       "    this.rubberband_context = rubberband[0].getContext(\"2d\");\n",
       "    this.rubberband_context.strokeStyle = \"#000000\";\n",
       "\n",
       "    this._resize_canvas = function(width, height) {\n",
       "        // Keep the size of the canvas, canvas container, and rubber band\n",
       "        // canvas in synch.\n",
       "        canvas_div.css('width', width)\n",
       "        canvas_div.css('height', height)\n",
       "\n",
       "        canvas.attr('width', width * mpl.ratio);\n",
       "        canvas.attr('height', height * mpl.ratio);\n",
       "        canvas.attr('style', 'width: ' + width + 'px; height: ' + height + 'px;');\n",
       "\n",
       "        rubberband.attr('width', width);\n",
       "        rubberband.attr('height', height);\n",
       "    }\n",
       "\n",
       "    // Set the figure to an initial 600x600px, this will subsequently be updated\n",
       "    // upon first draw.\n",
       "    this._resize_canvas(600, 600);\n",
       "\n",
       "    // Disable right mouse context menu.\n",
       "    $(this.rubberband_canvas).bind(\"contextmenu\",function(e){\n",
       "        return false;\n",
       "    });\n",
       "\n",
       "    function set_focus () {\n",
       "        canvas.focus();\n",
       "        canvas_div.focus();\n",
       "    }\n",
       "\n",
       "    window.setTimeout(set_focus, 100);\n",
       "}\n",
       "\n",
       "mpl.figure.prototype._init_toolbar = function() {\n",
       "    var fig = this;\n",
       "\n",
       "    var nav_element = $('<div/>');\n",
       "    nav_element.attr('style', 'width: 100%');\n",
       "    this.root.append(nav_element);\n",
       "\n",
       "    // Define a callback function for later on.\n",
       "    function toolbar_event(event) {\n",
       "        return fig.toolbar_button_onclick(event['data']);\n",
       "    }\n",
       "    function toolbar_mouse_event(event) {\n",
       "        return fig.toolbar_button_onmouseover(event['data']);\n",
       "    }\n",
       "\n",
       "    for(var toolbar_ind in mpl.toolbar_items) {\n",
       "        var name = mpl.toolbar_items[toolbar_ind][0];\n",
       "        var tooltip = mpl.toolbar_items[toolbar_ind][1];\n",
       "        var image = mpl.toolbar_items[toolbar_ind][2];\n",
       "        var method_name = mpl.toolbar_items[toolbar_ind][3];\n",
       "\n",
       "        if (!name) {\n",
       "            // put a spacer in here.\n",
       "            continue;\n",
       "        }\n",
       "        var button = $('<button/>');\n",
       "        button.addClass('ui-button ui-widget ui-state-default ui-corner-all ' +\n",
       "                        'ui-button-icon-only');\n",
       "        button.attr('role', 'button');\n",
       "        button.attr('aria-disabled', 'false');\n",
       "        button.click(method_name, toolbar_event);\n",
       "        button.mouseover(tooltip, toolbar_mouse_event);\n",
       "\n",
       "        var icon_img = $('<span/>');\n",
       "        icon_img.addClass('ui-button-icon-primary ui-icon');\n",
       "        icon_img.addClass(image);\n",
       "        icon_img.addClass('ui-corner-all');\n",
       "\n",
       "        var tooltip_span = $('<span/>');\n",
       "        tooltip_span.addClass('ui-button-text');\n",
       "        tooltip_span.html(tooltip);\n",
       "\n",
       "        button.append(icon_img);\n",
       "        button.append(tooltip_span);\n",
       "\n",
       "        nav_element.append(button);\n",
       "    }\n",
       "\n",
       "    var fmt_picker_span = $('<span/>');\n",
       "\n",
       "    var fmt_picker = $('<select/>');\n",
       "    fmt_picker.addClass('mpl-toolbar-option ui-widget ui-widget-content');\n",
       "    fmt_picker_span.append(fmt_picker);\n",
       "    nav_element.append(fmt_picker_span);\n",
       "    this.format_dropdown = fmt_picker[0];\n",
       "\n",
       "    for (var ind in mpl.extensions) {\n",
       "        var fmt = mpl.extensions[ind];\n",
       "        var option = $(\n",
       "            '<option/>', {selected: fmt === mpl.default_extension}).html(fmt);\n",
       "        fmt_picker.append(option);\n",
       "    }\n",
       "\n",
       "    // Add hover states to the ui-buttons\n",
       "    $( \".ui-button\" ).hover(\n",
       "        function() { $(this).addClass(\"ui-state-hover\");},\n",
       "        function() { $(this).removeClass(\"ui-state-hover\");}\n",
       "    );\n",
       "\n",
       "    var status_bar = $('<span class=\"mpl-message\"/>');\n",
       "    nav_element.append(status_bar);\n",
       "    this.message = status_bar[0];\n",
       "}\n",
       "\n",
       "mpl.figure.prototype.request_resize = function(x_pixels, y_pixels) {\n",
       "    // Request matplotlib to resize the figure. Matplotlib will then trigger a resize in the client,\n",
       "    // which will in turn request a refresh of the image.\n",
       "    this.send_message('resize', {'width': x_pixels, 'height': y_pixels});\n",
       "}\n",
       "\n",
       "mpl.figure.prototype.send_message = function(type, properties) {\n",
       "    properties['type'] = type;\n",
       "    properties['figure_id'] = this.id;\n",
       "    this.ws.send(JSON.stringify(properties));\n",
       "}\n",
       "\n",
       "mpl.figure.prototype.send_draw_message = function() {\n",
       "    if (!this.waiting) {\n",
       "        this.waiting = true;\n",
       "        this.ws.send(JSON.stringify({type: \"draw\", figure_id: this.id}));\n",
       "    }\n",
       "}\n",
       "\n",
       "\n",
       "mpl.figure.prototype.handle_save = function(fig, msg) {\n",
       "    var format_dropdown = fig.format_dropdown;\n",
       "    var format = format_dropdown.options[format_dropdown.selectedIndex].value;\n",
       "    fig.ondownload(fig, format);\n",
       "}\n",
       "\n",
       "\n",
       "mpl.figure.prototype.handle_resize = function(fig, msg) {\n",
       "    var size = msg['size'];\n",
       "    if (size[0] != fig.canvas.width || size[1] != fig.canvas.height) {\n",
       "        fig._resize_canvas(size[0], size[1]);\n",
       "        fig.send_message(\"refresh\", {});\n",
       "    };\n",
       "}\n",
       "\n",
       "mpl.figure.prototype.handle_rubberband = function(fig, msg) {\n",
       "    var x0 = msg['x0'] / mpl.ratio;\n",
       "    var y0 = (fig.canvas.height - msg['y0']) / mpl.ratio;\n",
       "    var x1 = msg['x1'] / mpl.ratio;\n",
       "    var y1 = (fig.canvas.height - msg['y1']) / mpl.ratio;\n",
       "    x0 = Math.floor(x0) + 0.5;\n",
       "    y0 = Math.floor(y0) + 0.5;\n",
       "    x1 = Math.floor(x1) + 0.5;\n",
       "    y1 = Math.floor(y1) + 0.5;\n",
       "    var min_x = Math.min(x0, x1);\n",
       "    var min_y = Math.min(y0, y1);\n",
       "    var width = Math.abs(x1 - x0);\n",
       "    var height = Math.abs(y1 - y0);\n",
       "\n",
       "    fig.rubberband_context.clearRect(\n",
       "        0, 0, fig.canvas.width / mpl.ratio, fig.canvas.height / mpl.ratio);\n",
       "\n",
       "    fig.rubberband_context.strokeRect(min_x, min_y, width, height);\n",
       "}\n",
       "\n",
       "mpl.figure.prototype.handle_figure_label = function(fig, msg) {\n",
       "    // Updates the figure title.\n",
       "    fig.header.textContent = msg['label'];\n",
       "}\n",
       "\n",
       "mpl.figure.prototype.handle_cursor = function(fig, msg) {\n",
       "    var cursor = msg['cursor'];\n",
       "    switch(cursor)\n",
       "    {\n",
       "    case 0:\n",
       "        cursor = 'pointer';\n",
       "        break;\n",
       "    case 1:\n",
       "        cursor = 'default';\n",
       "        break;\n",
       "    case 2:\n",
       "        cursor = 'crosshair';\n",
       "        break;\n",
       "    case 3:\n",
       "        cursor = 'move';\n",
       "        break;\n",
       "    }\n",
       "    fig.rubberband_canvas.style.cursor = cursor;\n",
       "}\n",
       "\n",
       "mpl.figure.prototype.handle_message = function(fig, msg) {\n",
       "    fig.message.textContent = msg['message'];\n",
       "}\n",
       "\n",
       "mpl.figure.prototype.handle_draw = function(fig, msg) {\n",
       "    // Request the server to send over a new figure.\n",
       "    fig.send_draw_message();\n",
       "}\n",
       "\n",
       "mpl.figure.prototype.handle_image_mode = function(fig, msg) {\n",
       "    fig.image_mode = msg['mode'];\n",
       "}\n",
       "\n",
       "mpl.figure.prototype.updated_canvas_event = function() {\n",
       "    // Called whenever the canvas gets updated.\n",
       "    this.send_message(\"ack\", {});\n",
       "}\n",
       "\n",
       "// A function to construct a web socket function for onmessage handling.\n",
       "// Called in the figure constructor.\n",
       "mpl.figure.prototype._make_on_message_function = function(fig) {\n",
       "    return function socket_on_message(evt) {\n",
       "        if (evt.data instanceof Blob) {\n",
       "            /* FIXME: We get \"Resource interpreted as Image but\n",
       "             * transferred with MIME type text/plain:\" errors on\n",
       "             * Chrome.  But how to set the MIME type?  It doesn't seem\n",
       "             * to be part of the websocket stream */\n",
       "            evt.data.type = \"image/png\";\n",
       "\n",
       "            /* Free the memory for the previous frames */\n",
       "            if (fig.imageObj.src) {\n",
       "                (window.URL || window.webkitURL).revokeObjectURL(\n",
       "                    fig.imageObj.src);\n",
       "            }\n",
       "\n",
       "            fig.imageObj.src = (window.URL || window.webkitURL).createObjectURL(\n",
       "                evt.data);\n",
       "            fig.updated_canvas_event();\n",
       "            fig.waiting = false;\n",
       "            return;\n",
       "        }\n",
       "        else if (typeof evt.data === 'string' && evt.data.slice(0, 21) == \"data:image/png;base64\") {\n",
       "            fig.imageObj.src = evt.data;\n",
       "            fig.updated_canvas_event();\n",
       "            fig.waiting = false;\n",
       "            return;\n",
       "        }\n",
       "\n",
       "        var msg = JSON.parse(evt.data);\n",
       "        var msg_type = msg['type'];\n",
       "\n",
       "        // Call the  \"handle_{type}\" callback, which takes\n",
       "        // the figure and JSON message as its only arguments.\n",
       "        try {\n",
       "            var callback = fig[\"handle_\" + msg_type];\n",
       "        } catch (e) {\n",
       "            console.log(\"No handler for the '\" + msg_type + \"' message type: \", msg);\n",
       "            return;\n",
       "        }\n",
       "\n",
       "        if (callback) {\n",
       "            try {\n",
       "                // console.log(\"Handling '\" + msg_type + \"' message: \", msg);\n",
       "                callback(fig, msg);\n",
       "            } catch (e) {\n",
       "                console.log(\"Exception inside the 'handler_\" + msg_type + \"' callback:\", e, e.stack, msg);\n",
       "            }\n",
       "        }\n",
       "    };\n",
       "}\n",
       "\n",
       "// from http://stackoverflow.com/questions/1114465/getting-mouse-location-in-canvas\n",
       "mpl.findpos = function(e) {\n",
       "    //this section is from http://www.quirksmode.org/js/events_properties.html\n",
       "    var targ;\n",
       "    if (!e)\n",
       "        e = window.event;\n",
       "    if (e.target)\n",
       "        targ = e.target;\n",
       "    else if (e.srcElement)\n",
       "        targ = e.srcElement;\n",
       "    if (targ.nodeType == 3) // defeat Safari bug\n",
       "        targ = targ.parentNode;\n",
       "\n",
       "    // jQuery normalizes the pageX and pageY\n",
       "    // pageX,Y are the mouse positions relative to the document\n",
       "    // offset() returns the position of the element relative to the document\n",
       "    var x = e.pageX - $(targ).offset().left;\n",
       "    var y = e.pageY - $(targ).offset().top;\n",
       "\n",
       "    return {\"x\": x, \"y\": y};\n",
       "};\n",
       "\n",
       "/*\n",
       " * return a copy of an object with only non-object keys\n",
       " * we need this to avoid circular references\n",
       " * http://stackoverflow.com/a/24161582/3208463\n",
       " */\n",
       "function simpleKeys (original) {\n",
       "  return Object.keys(original).reduce(function (obj, key) {\n",
       "    if (typeof original[key] !== 'object')\n",
       "        obj[key] = original[key]\n",
       "    return obj;\n",
       "  }, {});\n",
       "}\n",
       "\n",
       "mpl.figure.prototype.mouse_event = function(event, name) {\n",
       "    var canvas_pos = mpl.findpos(event)\n",
       "\n",
       "    if (name === 'button_press')\n",
       "    {\n",
       "        this.canvas.focus();\n",
       "        this.canvas_div.focus();\n",
       "    }\n",
       "\n",
       "    var x = canvas_pos.x * mpl.ratio;\n",
       "    var y = canvas_pos.y * mpl.ratio;\n",
       "\n",
       "    this.send_message(name, {x: x, y: y, button: event.button,\n",
       "                             step: event.step,\n",
       "                             guiEvent: simpleKeys(event)});\n",
       "\n",
       "    /* This prevents the web browser from automatically changing to\n",
       "     * the text insertion cursor when the button is pressed.  We want\n",
       "     * to control all of the cursor setting manually through the\n",
       "     * 'cursor' event from matplotlib */\n",
       "    event.preventDefault();\n",
       "    return false;\n",
       "}\n",
       "\n",
       "mpl.figure.prototype._key_event_extra = function(event, name) {\n",
       "    // Handle any extra behaviour associated with a key event\n",
       "}\n",
       "\n",
       "mpl.figure.prototype.key_event = function(event, name) {\n",
       "\n",
       "    // Prevent repeat events\n",
       "    if (name == 'key_press')\n",
       "    {\n",
       "        if (event.which === this._key)\n",
       "            return;\n",
       "        else\n",
       "            this._key = event.which;\n",
       "    }\n",
       "    if (name == 'key_release')\n",
       "        this._key = null;\n",
       "\n",
       "    var value = '';\n",
       "    if (event.ctrlKey && event.which != 17)\n",
       "        value += \"ctrl+\";\n",
       "    if (event.altKey && event.which != 18)\n",
       "        value += \"alt+\";\n",
       "    if (event.shiftKey && event.which != 16)\n",
       "        value += \"shift+\";\n",
       "\n",
       "    value += 'k';\n",
       "    value += event.which.toString();\n",
       "\n",
       "    this._key_event_extra(event, name);\n",
       "\n",
       "    this.send_message(name, {key: value,\n",
       "                             guiEvent: simpleKeys(event)});\n",
       "    return false;\n",
       "}\n",
       "\n",
       "mpl.figure.prototype.toolbar_button_onclick = function(name) {\n",
       "    if (name == 'download') {\n",
       "        this.handle_save(this, null);\n",
       "    } else {\n",
       "        this.send_message(\"toolbar_button\", {name: name});\n",
       "    }\n",
       "};\n",
       "\n",
       "mpl.figure.prototype.toolbar_button_onmouseover = function(tooltip) {\n",
       "    this.message.textContent = tooltip;\n",
       "};\n",
       "mpl.toolbar_items = [[\"Home\", \"Reset original view\", \"fa fa-home icon-home\", \"home\"], [\"Back\", \"Back to previous view\", \"fa fa-arrow-left icon-arrow-left\", \"back\"], [\"Forward\", \"Forward to next view\", \"fa fa-arrow-right icon-arrow-right\", \"forward\"], [\"\", \"\", \"\", \"\"], [\"Pan\", \"Pan axes with left mouse, zoom with right\", \"fa fa-arrows icon-move\", \"pan\"], [\"Zoom\", \"Zoom to rectangle\", \"fa fa-square-o icon-check-empty\", \"zoom\"], [\"\", \"\", \"\", \"\"], [\"Download\", \"Download plot\", \"fa fa-floppy-o icon-save\", \"download\"]];\n",
       "\n",
       "mpl.extensions = [\"eps\", \"jpeg\", \"pdf\", \"png\", \"ps\", \"raw\", \"svg\", \"tif\"];\n",
       "\n",
       "mpl.default_extension = \"png\";var comm_websocket_adapter = function(comm) {\n",
       "    // Create a \"websocket\"-like object which calls the given IPython comm\n",
       "    // object with the appropriate methods. Currently this is a non binary\n",
       "    // socket, so there is still some room for performance tuning.\n",
       "    var ws = {};\n",
       "\n",
       "    ws.close = function() {\n",
       "        comm.close()\n",
       "    };\n",
       "    ws.send = function(m) {\n",
       "        //console.log('sending', m);\n",
       "        comm.send(m);\n",
       "    };\n",
       "    // Register the callback with on_msg.\n",
       "    comm.on_msg(function(msg) {\n",
       "        //console.log('receiving', msg['content']['data'], msg);\n",
       "        // Pass the mpl event to the overridden (by mpl) onmessage function.\n",
       "        ws.onmessage(msg['content']['data'])\n",
       "    });\n",
       "    return ws;\n",
       "}\n",
       "\n",
       "mpl.mpl_figure_comm = function(comm, msg) {\n",
       "    // This is the function which gets called when the mpl process\n",
       "    // starts-up an IPython Comm through the \"matplotlib\" channel.\n",
       "\n",
       "    var id = msg.content.data.id;\n",
       "    // Get hold of the div created by the display call when the Comm\n",
       "    // socket was opened in Python.\n",
       "    var element = $(\"#\" + id);\n",
       "    var ws_proxy = comm_websocket_adapter(comm)\n",
       "\n",
       "    function ondownload(figure, format) {\n",
       "        window.open(figure.imageObj.src);\n",
       "    }\n",
       "\n",
       "    var fig = new mpl.figure(id, ws_proxy,\n",
       "                           ondownload,\n",
       "                           element.get(0));\n",
       "\n",
       "    // Call onopen now - mpl needs it, as it is assuming we've passed it a real\n",
       "    // web socket which is closed, not our websocket->open comm proxy.\n",
       "    ws_proxy.onopen();\n",
       "\n",
       "    fig.parent_element = element.get(0);\n",
       "    fig.cell_info = mpl.find_output_cell(\"<div id='\" + id + \"'></div>\");\n",
       "    if (!fig.cell_info) {\n",
       "        console.error(\"Failed to find cell for figure\", id, fig);\n",
       "        return;\n",
       "    }\n",
       "\n",
       "    var output_index = fig.cell_info[2]\n",
       "    var cell = fig.cell_info[0];\n",
       "\n",
       "};\n",
       "\n",
       "mpl.figure.prototype.handle_close = function(fig, msg) {\n",
       "    var width = fig.canvas.width/mpl.ratio\n",
       "    fig.root.unbind('remove')\n",
       "\n",
       "    // Update the output cell to use the data from the current canvas.\n",
       "    fig.push_to_output();\n",
       "    var dataURL = fig.canvas.toDataURL();\n",
       "    // Re-enable the keyboard manager in IPython - without this line, in FF,\n",
       "    // the notebook keyboard shortcuts fail.\n",
       "    IPython.keyboard_manager.enable()\n",
       "    $(fig.parent_element).html('<img src=\"' + dataURL + '\" width=\"' + width + '\">');\n",
       "    fig.close_ws(fig, msg);\n",
       "}\n",
       "\n",
       "mpl.figure.prototype.close_ws = function(fig, msg){\n",
       "    fig.send_message('closing', msg);\n",
       "    // fig.ws.close()\n",
       "}\n",
       "\n",
       "mpl.figure.prototype.push_to_output = function(remove_interactive) {\n",
       "    // Turn the data on the canvas into data in the output cell.\n",
       "    var width = this.canvas.width/mpl.ratio\n",
       "    var dataURL = this.canvas.toDataURL();\n",
       "    this.cell_info[1]['text/html'] = '<img src=\"' + dataURL + '\" width=\"' + width + '\">';\n",
       "}\n",
       "\n",
       "mpl.figure.prototype.updated_canvas_event = function() {\n",
       "    // Tell IPython that the notebook contents must change.\n",
       "    IPython.notebook.set_dirty(true);\n",
       "    this.send_message(\"ack\", {});\n",
       "    var fig = this;\n",
       "    // Wait a second, then push the new image to the DOM so\n",
       "    // that it is saved nicely (might be nice to debounce this).\n",
       "    setTimeout(function () { fig.push_to_output() }, 1000);\n",
       "}\n",
       "\n",
       "mpl.figure.prototype._init_toolbar = function() {\n",
       "    var fig = this;\n",
       "\n",
       "    var nav_element = $('<div/>');\n",
       "    nav_element.attr('style', 'width: 100%');\n",
       "    this.root.append(nav_element);\n",
       "\n",
       "    // Define a callback function for later on.\n",
       "    function toolbar_event(event) {\n",
       "        return fig.toolbar_button_onclick(event['data']);\n",
       "    }\n",
       "    function toolbar_mouse_event(event) {\n",
       "        return fig.toolbar_button_onmouseover(event['data']);\n",
       "    }\n",
       "\n",
       "    for(var toolbar_ind in mpl.toolbar_items){\n",
       "        var name = mpl.toolbar_items[toolbar_ind][0];\n",
       "        var tooltip = mpl.toolbar_items[toolbar_ind][1];\n",
       "        var image = mpl.toolbar_items[toolbar_ind][2];\n",
       "        var method_name = mpl.toolbar_items[toolbar_ind][3];\n",
       "\n",
       "        if (!name) { continue; };\n",
       "\n",
       "        var button = $('<button class=\"btn btn-default\" href=\"#\" title=\"' + name + '\"><i class=\"fa ' + image + ' fa-lg\"></i></button>');\n",
       "        button.click(method_name, toolbar_event);\n",
       "        button.mouseover(tooltip, toolbar_mouse_event);\n",
       "        nav_element.append(button);\n",
       "    }\n",
       "\n",
       "    // Add the status bar.\n",
       "    var status_bar = $('<span class=\"mpl-message\" style=\"text-align:right; float: right;\"/>');\n",
       "    nav_element.append(status_bar);\n",
       "    this.message = status_bar[0];\n",
       "\n",
       "    // Add the close button to the window.\n",
       "    var buttongrp = $('<div class=\"btn-group inline pull-right\"></div>');\n",
       "    var button = $('<button class=\"btn btn-mini btn-primary\" href=\"#\" title=\"Stop Interaction\"><i class=\"fa fa-power-off icon-remove icon-large\"></i></button>');\n",
       "    button.click(function (evt) { fig.handle_close(fig, {}); } );\n",
       "    button.mouseover('Stop Interaction', toolbar_mouse_event);\n",
       "    buttongrp.append(button);\n",
       "    var titlebar = this.root.find($('.ui-dialog-titlebar'));\n",
       "    titlebar.prepend(buttongrp);\n",
       "}\n",
       "\n",
       "mpl.figure.prototype._root_extra_style = function(el){\n",
       "    var fig = this\n",
       "    el.on(\"remove\", function(){\n",
       "\tfig.close_ws(fig, {});\n",
       "    });\n",
       "}\n",
       "\n",
       "mpl.figure.prototype._canvas_extra_style = function(el){\n",
       "    // this is important to make the div 'focusable\n",
       "    el.attr('tabindex', 0)\n",
       "    // reach out to IPython and tell the keyboard manager to turn it's self\n",
       "    // off when our div gets focus\n",
       "\n",
       "    // location in version 3\n",
       "    if (IPython.notebook.keyboard_manager) {\n",
       "        IPython.notebook.keyboard_manager.register_events(el);\n",
       "    }\n",
       "    else {\n",
       "        // location in version 2\n",
       "        IPython.keyboard_manager.register_events(el);\n",
       "    }\n",
       "\n",
       "}\n",
       "\n",
       "mpl.figure.prototype._key_event_extra = function(event, name) {\n",
       "    var manager = IPython.notebook.keyboard_manager;\n",
       "    if (!manager)\n",
       "        manager = IPython.keyboard_manager;\n",
       "\n",
       "    // Check for shift+enter\n",
       "    if (event.shiftKey && event.which == 13) {\n",
       "        this.canvas_div.blur();\n",
       "        // select the cell after this one\n",
       "        var index = IPython.notebook.find_cell_index(this.cell_info[0]);\n",
       "        IPython.notebook.select(index + 1);\n",
       "    }\n",
       "}\n",
       "\n",
       "mpl.figure.prototype.handle_save = function(fig, msg) {\n",
       "    fig.ondownload(fig, null);\n",
       "}\n",
       "\n",
       "\n",
       "mpl.find_output_cell = function(html_output) {\n",
       "    // Return the cell and output element which can be found *uniquely* in the notebook.\n",
       "    // Note - this is a bit hacky, but it is done because the \"notebook_saving.Notebook\"\n",
       "    // IPython event is triggered only after the cells have been serialised, which for\n",
       "    // our purposes (turning an active figure into a static one), is too late.\n",
       "    var cells = IPython.notebook.get_cells();\n",
       "    var ncells = cells.length;\n",
       "    for (var i=0; i<ncells; i++) {\n",
       "        var cell = cells[i];\n",
       "        if (cell.cell_type === 'code'){\n",
       "            for (var j=0; j<cell.output_area.outputs.length; j++) {\n",
       "                var data = cell.output_area.outputs[j];\n",
       "                if (data.data) {\n",
       "                    // IPython >= 3 moved mimebundle to data attribute of output\n",
       "                    data = data.data;\n",
       "                }\n",
       "                if (data['text/html'] == html_output) {\n",
       "                    return [cell, data, j];\n",
       "                }\n",
       "            }\n",
       "        }\n",
       "    }\n",
       "}\n",
       "\n",
       "// Register the function which deals with the matplotlib target/channel.\n",
       "// The kernel may be null if the page has been refreshed.\n",
       "if (IPython.notebook.kernel != null) {\n",
       "    IPython.notebook.kernel.comm_manager.register_target('matplotlib', mpl.mpl_figure_comm);\n",
       "}\n"
      ],
      "text/plain": [
       "<IPython.core.display.Javascript object>"
      ]
     },
     "metadata": {},
     "output_type": "display_data"
    },
    {
     "data": {
      "text/html": [
       "<img src=\"data:image/png;base64,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\" width=\"640\">"
      ],
      "text/plain": [
       "<IPython.core.display.HTML object>"
      ]
     },
     "metadata": {},
     "output_type": "display_data"
    },
    {
     "data": {
      "application/vnd.jupyter.widget-view+json": {
       "model_id": "dc7f2cdad172417b855a5d277dae3d29",
       "version_major": 2,
       "version_minor": 0
      },
      "text/plain": [
       "interactive(children=(IntSlider(value=30, description='Crit Rate % without helmet:'), Output()), _dom_classes=…"
      ]
     },
     "metadata": {},
     "output_type": "display_data"
    },
    {
     "data": {
      "text/plain": [
       "<function __main__.update(cr=30)>"
      ]
     },
     "execution_count": 4,
     "metadata": {},
     "output_type": "execute_result"
    }
   ],
   "source": [
    "# Create subplot\n",
    "fig = plt.figure()\n",
    "plt.subplots_adjust(bottom=0.25)\n",
    "ax = fig.subplots()\n",
    "\n",
    "p_break, = ax.plot(dmg_buff, avg_cdmg_mul_break, color='blue')\n",
    "p_lion, = ax.plot(dmg_buff, avg_cdmg_mul_lion, color='orange')\n",
    "#p_lion_break, = ax.plot(dmg_buff, avg_cdmg_mul_lion_break, color='green')\n",
    "p_intersect, = ax.plot(dmg_buff[idx], avg_cdmg_mul_lion[idx], 'ro')\n",
    "text_intersect = plt.text(dmg_buff[idx][0], avg_cdmg_mul_lion[idx][0]+0.1, '{}'.format(dmg_buff[idx][0]))\n",
    "\n",
    "plt.legend([\"without Lion Helmet + Break\", \"with Lion Helmet + Strike\"])\n",
    "#plt.legend([\"without Lion Helmet + Break\", \"with Lion Helmet + Strike\", \"with Lion Helmet + Break\"])\n",
    "\n",
    "ax.set_xlabel(\"Dmg Dealt Buff % excluding enchant bonus\")\n",
    "ax.set_ylabel(\"Expected Critical Dmg Multiplier x Dmg Dealt Multiplier\")\n",
    "ax.set_xticks(np.arange(0, 100, 10))\n",
    "\n",
    "# Create axes for slider\n",
    "#ax_cr=plt.axes([.25,.1,.65,.03])\n",
    "\n",
    "# Create a slider\n",
    "#s_cr = Slider(ax_cr, 'Crit Rate %', valmin=0,valmax=100,valinit=cr_default,valstep=1)\n",
    "\n",
    "# Create function to be called when slider value is changed\n",
    "def update(cr = cr_default):\n",
    "    #cr = s_cr.val\n",
    "    avg_cdmg_mul_break = cal_avg_cdmg_mul_break(cr)\n",
    "    avg_cdmg_mul_lion = cal_avg_cdmg_mul_lion(cr)\n",
    "    avg_cdmg_mul_lion_break = cal_avg_cdmg_mul_lion_break(cr)\n",
    "    idx = find_intersection_points(avg_cdmg_mul_break, avg_cdmg_mul_lion)\n",
    "    \n",
    "    p_break.set_ydata(avg_cdmg_mul_break)\n",
    "    p_lion.set_ydata(avg_cdmg_mul_lion)\n",
    "    #p_lion_break.set_ydata(avg_cdmg_mul_lion_break)\n",
    "    p_intersect.set_data(dmg_buff[idx], avg_cdmg_mul_lion[idx])\n",
    "    text_intersect.set_position((dmg_buff[idx][0], avg_cdmg_mul_lion[idx][0]+0.1))\n",
    "    text_intersect.set_text('{}'.format(dmg_buff[idx][0]))\n",
    "    \n",
    "    fig.canvas.draw_idle()\n",
    "\n",
    "#s_cr.on_changed(update)\n",
    "interact(update, cr = widgets.IntSlider(description='Crit Rate % without helmet:', value=cr_default, min=0, max=100, step=1))"
   ]
  },
  {
   "cell_type": "code",
   "execution_count": 3,
   "id": "d311d4b4",
   "metadata": {},
   "outputs": [
    {
     "data": {
      "application/javascript": [
       "/* Put everything inside the global mpl namespace */\n",
       "window.mpl = {};\n",
       "\n",
       "\n",
       "mpl.get_websocket_type = function() {\n",
       "    if (typeof(WebSocket) !== 'undefined') {\n",
       "        return WebSocket;\n",
       "    } else if (typeof(MozWebSocket) !== 'undefined') {\n",
       "        return MozWebSocket;\n",
       "    } else {\n",
       "        alert('Your browser does not have WebSocket support. ' +\n",
       "              'Please try Chrome, Safari or Firefox ≥ 6. ' +\n",
       "              'Firefox 4 and 5 are also supported but you ' +\n",
       "              'have to enable WebSockets in about:config.');\n",
       "    };\n",
       "}\n",
       "\n",
       "mpl.figure = function(figure_id, websocket, ondownload, parent_element) {\n",
       "    this.id = figure_id;\n",
       "\n",
       "    this.ws = websocket;\n",
       "\n",
       "    this.supports_binary = (this.ws.binaryType != undefined);\n",
       "\n",
       "    if (!this.supports_binary) {\n",
       "        var warnings = document.getElementById(\"mpl-warnings\");\n",
       "        if (warnings) {\n",
       "            warnings.style.display = 'block';\n",
       "            warnings.textContent = (\n",
       "                \"This browser does not support binary websocket messages. \" +\n",
       "                    \"Performance may be slow.\");\n",
       "        }\n",
       "    }\n",
       "\n",
       "    this.imageObj = new Image();\n",
       "\n",
       "    this.context = undefined;\n",
       "    this.message = undefined;\n",
       "    this.canvas = undefined;\n",
       "    this.rubberband_canvas = undefined;\n",
       "    this.rubberband_context = undefined;\n",
       "    this.format_dropdown = undefined;\n",
       "\n",
       "    this.image_mode = 'full';\n",
       "\n",
       "    this.root = $('<div/>');\n",
       "    this._root_extra_style(this.root)\n",
       "    this.root.attr('style', 'display: inline-block');\n",
       "\n",
       "    $(parent_element).append(this.root);\n",
       "\n",
       "    this._init_header(this);\n",
       "    this._init_canvas(this);\n",
       "    this._init_toolbar(this);\n",
       "\n",
       "    var fig = this;\n",
       "\n",
       "    this.waiting = false;\n",
       "\n",
       "    this.ws.onopen =  function () {\n",
       "            fig.send_message(\"supports_binary\", {value: fig.supports_binary});\n",
       "            fig.send_message(\"send_image_mode\", {});\n",
       "            if (mpl.ratio != 1) {\n",
       "                fig.send_message(\"set_dpi_ratio\", {'dpi_ratio': mpl.ratio});\n",
       "            }\n",
       "            fig.send_message(\"refresh\", {});\n",
       "        }\n",
       "\n",
       "    this.imageObj.onload = function() {\n",
       "            if (fig.image_mode == 'full') {\n",
       "                // Full images could contain transparency (where diff images\n",
       "                // almost always do), so we need to clear the canvas so that\n",
       "                // there is no ghosting.\n",
       "                fig.context.clearRect(0, 0, fig.canvas.width, fig.canvas.height);\n",
       "            }\n",
       "            fig.context.drawImage(fig.imageObj, 0, 0);\n",
       "        };\n",
       "\n",
       "    this.imageObj.onunload = function() {\n",
       "        fig.ws.close();\n",
       "    }\n",
       "\n",
       "    this.ws.onmessage = this._make_on_message_function(this);\n",
       "\n",
       "    this.ondownload = ondownload;\n",
       "}\n",
       "\n",
       "mpl.figure.prototype._init_header = function() {\n",
       "    var titlebar = $(\n",
       "        '<div class=\"ui-dialog-titlebar ui-widget-header ui-corner-all ' +\n",
       "        'ui-helper-clearfix\"/>');\n",
       "    var titletext = $(\n",
       "        '<div class=\"ui-dialog-title\" style=\"width: 100%; ' +\n",
       "        'text-align: center; padding: 3px;\"/>');\n",
       "    titlebar.append(titletext)\n",
       "    this.root.append(titlebar);\n",
       "    this.header = titletext[0];\n",
       "}\n",
       "\n",
       "\n",
       "\n",
       "mpl.figure.prototype._canvas_extra_style = function(canvas_div) {\n",
       "\n",
       "}\n",
       "\n",
       "\n",
       "mpl.figure.prototype._root_extra_style = function(canvas_div) {\n",
       "\n",
       "}\n",
       "\n",
       "mpl.figure.prototype._init_canvas = function() {\n",
       "    var fig = this;\n",
       "\n",
       "    var canvas_div = $('<div/>');\n",
       "\n",
       "    canvas_div.attr('style', 'position: relative; clear: both; outline: 0');\n",
       "\n",
       "    function canvas_keyboard_event(event) {\n",
       "        return fig.key_event(event, event['data']);\n",
       "    }\n",
       "\n",
       "    canvas_div.keydown('key_press', canvas_keyboard_event);\n",
       "    canvas_div.keyup('key_release', canvas_keyboard_event);\n",
       "    this.canvas_div = canvas_div\n",
       "    this._canvas_extra_style(canvas_div)\n",
       "    this.root.append(canvas_div);\n",
       "\n",
       "    var canvas = $('<canvas/>');\n",
       "    canvas.addClass('mpl-canvas');\n",
       "    canvas.attr('style', \"left: 0; top: 0; z-index: 0; outline: 0\")\n",
       "\n",
       "    this.canvas = canvas[0];\n",
       "    this.context = canvas[0].getContext(\"2d\");\n",
       "\n",
       "    var backingStore = this.context.backingStorePixelRatio ||\n",
       "\tthis.context.webkitBackingStorePixelRatio ||\n",
       "\tthis.context.mozBackingStorePixelRatio ||\n",
       "\tthis.context.msBackingStorePixelRatio ||\n",
       "\tthis.context.oBackingStorePixelRatio ||\n",
       "\tthis.context.backingStorePixelRatio || 1;\n",
       "\n",
       "    mpl.ratio = (window.devicePixelRatio || 1) / backingStore;\n",
       "\n",
       "    var rubberband = $('<canvas/>');\n",
       "    rubberband.attr('style', \"position: absolute; left: 0; top: 0; z-index: 1;\")\n",
       "\n",
       "    var pass_mouse_events = true;\n",
       "\n",
       "    canvas_div.resizable({\n",
       "        start: function(event, ui) {\n",
       "            pass_mouse_events = false;\n",
       "        },\n",
       "        resize: function(event, ui) {\n",
       "            fig.request_resize(ui.size.width, ui.size.height);\n",
       "        },\n",
       "        stop: function(event, ui) {\n",
       "            pass_mouse_events = true;\n",
       "            fig.request_resize(ui.size.width, ui.size.height);\n",
       "        },\n",
       "    });\n",
       "\n",
       "    function mouse_event_fn(event) {\n",
       "        if (pass_mouse_events)\n",
       "            return fig.mouse_event(event, event['data']);\n",
       "    }\n",
       "\n",
       "    rubberband.mousedown('button_press', mouse_event_fn);\n",
       "    rubberband.mouseup('button_release', mouse_event_fn);\n",
       "    // Throttle sequential mouse events to 1 every 20ms.\n",
       "    rubberband.mousemove('motion_notify', mouse_event_fn);\n",
       "\n",
       "    rubberband.mouseenter('figure_enter', mouse_event_fn);\n",
       "    rubberband.mouseleave('figure_leave', mouse_event_fn);\n",
       "\n",
       "    canvas_div.on(\"wheel\", function (event) {\n",
       "        event = event.originalEvent;\n",
       "        event['data'] = 'scroll'\n",
       "        if (event.deltaY < 0) {\n",
       "            event.step = 1;\n",
       "        } else {\n",
       "            event.step = -1;\n",
       "        }\n",
       "        mouse_event_fn(event);\n",
       "    });\n",
       "\n",
       "    canvas_div.append(canvas);\n",
       "    canvas_div.append(rubberband);\n",
       "\n",
       "    this.rubberband = rubberband;\n",
       "    this.rubberband_canvas = rubberband[0];\n",
       "    this.rubberband_context = rubberband[0].getContext(\"2d\");\n",
       "    this.rubberband_context.strokeStyle = \"#000000\";\n",
       "\n",
       "    this._resize_canvas = function(width, height) {\n",
       "        // Keep the size of the canvas, canvas container, and rubber band\n",
       "        // canvas in synch.\n",
       "        canvas_div.css('width', width)\n",
       "        canvas_div.css('height', height)\n",
       "\n",
       "        canvas.attr('width', width * mpl.ratio);\n",
       "        canvas.attr('height', height * mpl.ratio);\n",
       "        canvas.attr('style', 'width: ' + width + 'px; height: ' + height + 'px;');\n",
       "\n",
       "        rubberband.attr('width', width);\n",
       "        rubberband.attr('height', height);\n",
       "    }\n",
       "\n",
       "    // Set the figure to an initial 600x600px, this will subsequently be updated\n",
       "    // upon first draw.\n",
       "    this._resize_canvas(600, 600);\n",
       "\n",
       "    // Disable right mouse context menu.\n",
       "    $(this.rubberband_canvas).bind(\"contextmenu\",function(e){\n",
       "        return false;\n",
       "    });\n",
       "\n",
       "    function set_focus () {\n",
       "        canvas.focus();\n",
       "        canvas_div.focus();\n",
       "    }\n",
       "\n",
       "    window.setTimeout(set_focus, 100);\n",
       "}\n",
       "\n",
       "mpl.figure.prototype._init_toolbar = function() {\n",
       "    var fig = this;\n",
       "\n",
       "    var nav_element = $('<div/>');\n",
       "    nav_element.attr('style', 'width: 100%');\n",
       "    this.root.append(nav_element);\n",
       "\n",
       "    // Define a callback function for later on.\n",
       "    function toolbar_event(event) {\n",
       "        return fig.toolbar_button_onclick(event['data']);\n",
       "    }\n",
       "    function toolbar_mouse_event(event) {\n",
       "        return fig.toolbar_button_onmouseover(event['data']);\n",
       "    }\n",
       "\n",
       "    for(var toolbar_ind in mpl.toolbar_items) {\n",
       "        var name = mpl.toolbar_items[toolbar_ind][0];\n",
       "        var tooltip = mpl.toolbar_items[toolbar_ind][1];\n",
       "        var image = mpl.toolbar_items[toolbar_ind][2];\n",
       "        var method_name = mpl.toolbar_items[toolbar_ind][3];\n",
       "\n",
       "        if (!name) {\n",
       "            // put a spacer in here.\n",
       "            continue;\n",
       "        }\n",
       "        var button = $('<button/>');\n",
       "        button.addClass('ui-button ui-widget ui-state-default ui-corner-all ' +\n",
       "                        'ui-button-icon-only');\n",
       "        button.attr('role', 'button');\n",
       "        button.attr('aria-disabled', 'false');\n",
       "        button.click(method_name, toolbar_event);\n",
       "        button.mouseover(tooltip, toolbar_mouse_event);\n",
       "\n",
       "        var icon_img = $('<span/>');\n",
       "        icon_img.addClass('ui-button-icon-primary ui-icon');\n",
       "        icon_img.addClass(image);\n",
       "        icon_img.addClass('ui-corner-all');\n",
       "\n",
       "        var tooltip_span = $('<span/>');\n",
       "        tooltip_span.addClass('ui-button-text');\n",
       "        tooltip_span.html(tooltip);\n",
       "\n",
       "        button.append(icon_img);\n",
       "        button.append(tooltip_span);\n",
       "\n",
       "        nav_element.append(button);\n",
       "    }\n",
       "\n",
       "    var fmt_picker_span = $('<span/>');\n",
       "\n",
       "    var fmt_picker = $('<select/>');\n",
       "    fmt_picker.addClass('mpl-toolbar-option ui-widget ui-widget-content');\n",
       "    fmt_picker_span.append(fmt_picker);\n",
       "    nav_element.append(fmt_picker_span);\n",
       "    this.format_dropdown = fmt_picker[0];\n",
       "\n",
       "    for (var ind in mpl.extensions) {\n",
       "        var fmt = mpl.extensions[ind];\n",
       "        var option = $(\n",
       "            '<option/>', {selected: fmt === mpl.default_extension}).html(fmt);\n",
       "        fmt_picker.append(option);\n",
       "    }\n",
       "\n",
       "    // Add hover states to the ui-buttons\n",
       "    $( \".ui-button\" ).hover(\n",
       "        function() { $(this).addClass(\"ui-state-hover\");},\n",
       "        function() { $(this).removeClass(\"ui-state-hover\");}\n",
       "    );\n",
       "\n",
       "    var status_bar = $('<span class=\"mpl-message\"/>');\n",
       "    nav_element.append(status_bar);\n",
       "    this.message = status_bar[0];\n",
       "}\n",
       "\n",
       "mpl.figure.prototype.request_resize = function(x_pixels, y_pixels) {\n",
       "    // Request matplotlib to resize the figure. Matplotlib will then trigger a resize in the client,\n",
       "    // which will in turn request a refresh of the image.\n",
       "    this.send_message('resize', {'width': x_pixels, 'height': y_pixels});\n",
       "}\n",
       "\n",
       "mpl.figure.prototype.send_message = function(type, properties) {\n",
       "    properties['type'] = type;\n",
       "    properties['figure_id'] = this.id;\n",
       "    this.ws.send(JSON.stringify(properties));\n",
       "}\n",
       "\n",
       "mpl.figure.prototype.send_draw_message = function() {\n",
       "    if (!this.waiting) {\n",
       "        this.waiting = true;\n",
       "        this.ws.send(JSON.stringify({type: \"draw\", figure_id: this.id}));\n",
       "    }\n",
       "}\n",
       "\n",
       "\n",
       "mpl.figure.prototype.handle_save = function(fig, msg) {\n",
       "    var format_dropdown = fig.format_dropdown;\n",
       "    var format = format_dropdown.options[format_dropdown.selectedIndex].value;\n",
       "    fig.ondownload(fig, format);\n",
       "}\n",
       "\n",
       "\n",
       "mpl.figure.prototype.handle_resize = function(fig, msg) {\n",
       "    var size = msg['size'];\n",
       "    if (size[0] != fig.canvas.width || size[1] != fig.canvas.height) {\n",
       "        fig._resize_canvas(size[0], size[1]);\n",
       "        fig.send_message(\"refresh\", {});\n",
       "    };\n",
       "}\n",
       "\n",
       "mpl.figure.prototype.handle_rubberband = function(fig, msg) {\n",
       "    var x0 = msg['x0'] / mpl.ratio;\n",
       "    var y0 = (fig.canvas.height - msg['y0']) / mpl.ratio;\n",
       "    var x1 = msg['x1'] / mpl.ratio;\n",
       "    var y1 = (fig.canvas.height - msg['y1']) / mpl.ratio;\n",
       "    x0 = Math.floor(x0) + 0.5;\n",
       "    y0 = Math.floor(y0) + 0.5;\n",
       "    x1 = Math.floor(x1) + 0.5;\n",
       "    y1 = Math.floor(y1) + 0.5;\n",
       "    var min_x = Math.min(x0, x1);\n",
       "    var min_y = Math.min(y0, y1);\n",
       "    var width = Math.abs(x1 - x0);\n",
       "    var height = Math.abs(y1 - y0);\n",
       "\n",
       "    fig.rubberband_context.clearRect(\n",
       "        0, 0, fig.canvas.width / mpl.ratio, fig.canvas.height / mpl.ratio);\n",
       "\n",
       "    fig.rubberband_context.strokeRect(min_x, min_y, width, height);\n",
       "}\n",
       "\n",
       "mpl.figure.prototype.handle_figure_label = function(fig, msg) {\n",
       "    // Updates the figure title.\n",
       "    fig.header.textContent = msg['label'];\n",
       "}\n",
       "\n",
       "mpl.figure.prototype.handle_cursor = function(fig, msg) {\n",
       "    var cursor = msg['cursor'];\n",
       "    switch(cursor)\n",
       "    {\n",
       "    case 0:\n",
       "        cursor = 'pointer';\n",
       "        break;\n",
       "    case 1:\n",
       "        cursor = 'default';\n",
       "        break;\n",
       "    case 2:\n",
       "        cursor = 'crosshair';\n",
       "        break;\n",
       "    case 3:\n",
       "        cursor = 'move';\n",
       "        break;\n",
       "    }\n",
       "    fig.rubberband_canvas.style.cursor = cursor;\n",
       "}\n",
       "\n",
       "mpl.figure.prototype.handle_message = function(fig, msg) {\n",
       "    fig.message.textContent = msg['message'];\n",
       "}\n",
       "\n",
       "mpl.figure.prototype.handle_draw = function(fig, msg) {\n",
       "    // Request the server to send over a new figure.\n",
       "    fig.send_draw_message();\n",
       "}\n",
       "\n",
       "mpl.figure.prototype.handle_image_mode = function(fig, msg) {\n",
       "    fig.image_mode = msg['mode'];\n",
       "}\n",
       "\n",
       "mpl.figure.prototype.updated_canvas_event = function() {\n",
       "    // Called whenever the canvas gets updated.\n",
       "    this.send_message(\"ack\", {});\n",
       "}\n",
       "\n",
       "// A function to construct a web socket function for onmessage handling.\n",
       "// Called in the figure constructor.\n",
       "mpl.figure.prototype._make_on_message_function = function(fig) {\n",
       "    return function socket_on_message(evt) {\n",
       "        if (evt.data instanceof Blob) {\n",
       "            /* FIXME: We get \"Resource interpreted as Image but\n",
       "             * transferred with MIME type text/plain:\" errors on\n",
       "             * Chrome.  But how to set the MIME type?  It doesn't seem\n",
       "             * to be part of the websocket stream */\n",
       "            evt.data.type = \"image/png\";\n",
       "\n",
       "            /* Free the memory for the previous frames */\n",
       "            if (fig.imageObj.src) {\n",
       "                (window.URL || window.webkitURL).revokeObjectURL(\n",
       "                    fig.imageObj.src);\n",
       "            }\n",
       "\n",
       "            fig.imageObj.src = (window.URL || window.webkitURL).createObjectURL(\n",
       "                evt.data);\n",
       "            fig.updated_canvas_event();\n",
       "            fig.waiting = false;\n",
       "            return;\n",
       "        }\n",
       "        else if (typeof evt.data === 'string' && evt.data.slice(0, 21) == \"data:image/png;base64\") {\n",
       "            fig.imageObj.src = evt.data;\n",
       "            fig.updated_canvas_event();\n",
       "            fig.waiting = false;\n",
       "            return;\n",
       "        }\n",
       "\n",
       "        var msg = JSON.parse(evt.data);\n",
       "        var msg_type = msg['type'];\n",
       "\n",
       "        // Call the  \"handle_{type}\" callback, which takes\n",
       "        // the figure and JSON message as its only arguments.\n",
       "        try {\n",
       "            var callback = fig[\"handle_\" + msg_type];\n",
       "        } catch (e) {\n",
       "            console.log(\"No handler for the '\" + msg_type + \"' message type: \", msg);\n",
       "            return;\n",
       "        }\n",
       "\n",
       "        if (callback) {\n",
       "            try {\n",
       "                // console.log(\"Handling '\" + msg_type + \"' message: \", msg);\n",
       "                callback(fig, msg);\n",
       "            } catch (e) {\n",
       "                console.log(\"Exception inside the 'handler_\" + msg_type + \"' callback:\", e, e.stack, msg);\n",
       "            }\n",
       "        }\n",
       "    };\n",
       "}\n",
       "\n",
       "// from http://stackoverflow.com/questions/1114465/getting-mouse-location-in-canvas\n",
       "mpl.findpos = function(e) {\n",
       "    //this section is from http://www.quirksmode.org/js/events_properties.html\n",
       "    var targ;\n",
       "    if (!e)\n",
       "        e = window.event;\n",
       "    if (e.target)\n",
       "        targ = e.target;\n",
       "    else if (e.srcElement)\n",
       "        targ = e.srcElement;\n",
       "    if (targ.nodeType == 3) // defeat Safari bug\n",
       "        targ = targ.parentNode;\n",
       "\n",
       "    // jQuery normalizes the pageX and pageY\n",
       "    // pageX,Y are the mouse positions relative to the document\n",
       "    // offset() returns the position of the element relative to the document\n",
       "    var x = e.pageX - $(targ).offset().left;\n",
       "    var y = e.pageY - $(targ).offset().top;\n",
       "\n",
       "    return {\"x\": x, \"y\": y};\n",
       "};\n",
       "\n",
       "/*\n",
       " * return a copy of an object with only non-object keys\n",
       " * we need this to avoid circular references\n",
       " * http://stackoverflow.com/a/24161582/3208463\n",
       " */\n",
       "function simpleKeys (original) {\n",
       "  return Object.keys(original).reduce(function (obj, key) {\n",
       "    if (typeof original[key] !== 'object')\n",
       "        obj[key] = original[key]\n",
       "    return obj;\n",
       "  }, {});\n",
       "}\n",
       "\n",
       "mpl.figure.prototype.mouse_event = function(event, name) {\n",
       "    var canvas_pos = mpl.findpos(event)\n",
       "\n",
       "    if (name === 'button_press')\n",
       "    {\n",
       "        this.canvas.focus();\n",
       "        this.canvas_div.focus();\n",
       "    }\n",
       "\n",
       "    var x = canvas_pos.x * mpl.ratio;\n",
       "    var y = canvas_pos.y * mpl.ratio;\n",
       "\n",
       "    this.send_message(name, {x: x, y: y, button: event.button,\n",
       "                             step: event.step,\n",
       "                             guiEvent: simpleKeys(event)});\n",
       "\n",
       "    /* This prevents the web browser from automatically changing to\n",
       "     * the text insertion cursor when the button is pressed.  We want\n",
       "     * to control all of the cursor setting manually through the\n",
       "     * 'cursor' event from matplotlib */\n",
       "    event.preventDefault();\n",
       "    return false;\n",
       "}\n",
       "\n",
       "mpl.figure.prototype._key_event_extra = function(event, name) {\n",
       "    // Handle any extra behaviour associated with a key event\n",
       "}\n",
       "\n",
       "mpl.figure.prototype.key_event = function(event, name) {\n",
       "\n",
       "    // Prevent repeat events\n",
       "    if (name == 'key_press')\n",
       "    {\n",
       "        if (event.which === this._key)\n",
       "            return;\n",
       "        else\n",
       "            this._key = event.which;\n",
       "    }\n",
       "    if (name == 'key_release')\n",
       "        this._key = null;\n",
       "\n",
       "    var value = '';\n",
       "    if (event.ctrlKey && event.which != 17)\n",
       "        value += \"ctrl+\";\n",
       "    if (event.altKey && event.which != 18)\n",
       "        value += \"alt+\";\n",
       "    if (event.shiftKey && event.which != 16)\n",
       "        value += \"shift+\";\n",
       "\n",
       "    value += 'k';\n",
       "    value += event.which.toString();\n",
       "\n",
       "    this._key_event_extra(event, name);\n",
       "\n",
       "    this.send_message(name, {key: value,\n",
       "                             guiEvent: simpleKeys(event)});\n",
       "    return false;\n",
       "}\n",
       "\n",
       "mpl.figure.prototype.toolbar_button_onclick = function(name) {\n",
       "    if (name == 'download') {\n",
       "        this.handle_save(this, null);\n",
       "    } else {\n",
       "        this.send_message(\"toolbar_button\", {name: name});\n",
       "    }\n",
       "};\n",
       "\n",
       "mpl.figure.prototype.toolbar_button_onmouseover = function(tooltip) {\n",
       "    this.message.textContent = tooltip;\n",
       "};\n",
       "mpl.toolbar_items = [[\"Home\", \"Reset original view\", \"fa fa-home icon-home\", \"home\"], [\"Back\", \"Back to previous view\", \"fa fa-arrow-left icon-arrow-left\", \"back\"], [\"Forward\", \"Forward to next view\", \"fa fa-arrow-right icon-arrow-right\", \"forward\"], [\"\", \"\", \"\", \"\"], [\"Pan\", \"Pan axes with left mouse, zoom with right\", \"fa fa-arrows icon-move\", \"pan\"], [\"Zoom\", \"Zoom to rectangle\", \"fa fa-square-o icon-check-empty\", \"zoom\"], [\"\", \"\", \"\", \"\"], [\"Download\", \"Download plot\", \"fa fa-floppy-o icon-save\", \"download\"]];\n",
       "\n",
       "mpl.extensions = [\"eps\", \"jpeg\", \"pdf\", \"png\", \"ps\", \"raw\", \"svg\", \"tif\"];\n",
       "\n",
       "mpl.default_extension = \"png\";var comm_websocket_adapter = function(comm) {\n",
       "    // Create a \"websocket\"-like object which calls the given IPython comm\n",
       "    // object with the appropriate methods. Currently this is a non binary\n",
       "    // socket, so there is still some room for performance tuning.\n",
       "    var ws = {};\n",
       "\n",
       "    ws.close = function() {\n",
       "        comm.close()\n",
       "    };\n",
       "    ws.send = function(m) {\n",
       "        //console.log('sending', m);\n",
       "        comm.send(m);\n",
       "    };\n",
       "    // Register the callback with on_msg.\n",
       "    comm.on_msg(function(msg) {\n",
       "        //console.log('receiving', msg['content']['data'], msg);\n",
       "        // Pass the mpl event to the overridden (by mpl) onmessage function.\n",
       "        ws.onmessage(msg['content']['data'])\n",
       "    });\n",
       "    return ws;\n",
       "}\n",
       "\n",
       "mpl.mpl_figure_comm = function(comm, msg) {\n",
       "    // This is the function which gets called when the mpl process\n",
       "    // starts-up an IPython Comm through the \"matplotlib\" channel.\n",
       "\n",
       "    var id = msg.content.data.id;\n",
       "    // Get hold of the div created by the display call when the Comm\n",
       "    // socket was opened in Python.\n",
       "    var element = $(\"#\" + id);\n",
       "    var ws_proxy = comm_websocket_adapter(comm)\n",
       "\n",
       "    function ondownload(figure, format) {\n",
       "        window.open(figure.imageObj.src);\n",
       "    }\n",
       "\n",
       "    var fig = new mpl.figure(id, ws_proxy,\n",
       "                           ondownload,\n",
       "                           element.get(0));\n",
       "\n",
       "    // Call onopen now - mpl needs it, as it is assuming we've passed it a real\n",
       "    // web socket which is closed, not our websocket->open comm proxy.\n",
       "    ws_proxy.onopen();\n",
       "\n",
       "    fig.parent_element = element.get(0);\n",
       "    fig.cell_info = mpl.find_output_cell(\"<div id='\" + id + \"'></div>\");\n",
       "    if (!fig.cell_info) {\n",
       "        console.error(\"Failed to find cell for figure\", id, fig);\n",
       "        return;\n",
       "    }\n",
       "\n",
       "    var output_index = fig.cell_info[2]\n",
       "    var cell = fig.cell_info[0];\n",
       "\n",
       "};\n",
       "\n",
       "mpl.figure.prototype.handle_close = function(fig, msg) {\n",
       "    var width = fig.canvas.width/mpl.ratio\n",
       "    fig.root.unbind('remove')\n",
       "\n",
       "    // Update the output cell to use the data from the current canvas.\n",
       "    fig.push_to_output();\n",
       "    var dataURL = fig.canvas.toDataURL();\n",
       "    // Re-enable the keyboard manager in IPython - without this line, in FF,\n",
       "    // the notebook keyboard shortcuts fail.\n",
       "    IPython.keyboard_manager.enable()\n",
       "    $(fig.parent_element).html('<img src=\"' + dataURL + '\" width=\"' + width + '\">');\n",
       "    fig.close_ws(fig, msg);\n",
       "}\n",
       "\n",
       "mpl.figure.prototype.close_ws = function(fig, msg){\n",
       "    fig.send_message('closing', msg);\n",
       "    // fig.ws.close()\n",
       "}\n",
       "\n",
       "mpl.figure.prototype.push_to_output = function(remove_interactive) {\n",
       "    // Turn the data on the canvas into data in the output cell.\n",
       "    var width = this.canvas.width/mpl.ratio\n",
       "    var dataURL = this.canvas.toDataURL();\n",
       "    this.cell_info[1]['text/html'] = '<img src=\"' + dataURL + '\" width=\"' + width + '\">';\n",
       "}\n",
       "\n",
       "mpl.figure.prototype.updated_canvas_event = function() {\n",
       "    // Tell IPython that the notebook contents must change.\n",
       "    IPython.notebook.set_dirty(true);\n",
       "    this.send_message(\"ack\", {});\n",
       "    var fig = this;\n",
       "    // Wait a second, then push the new image to the DOM so\n",
       "    // that it is saved nicely (might be nice to debounce this).\n",
       "    setTimeout(function () { fig.push_to_output() }, 1000);\n",
       "}\n",
       "\n",
       "mpl.figure.prototype._init_toolbar = function() {\n",
       "    var fig = this;\n",
       "\n",
       "    var nav_element = $('<div/>');\n",
       "    nav_element.attr('style', 'width: 100%');\n",
       "    this.root.append(nav_element);\n",
       "\n",
       "    // Define a callback function for later on.\n",
       "    function toolbar_event(event) {\n",
       "        return fig.toolbar_button_onclick(event['data']);\n",
       "    }\n",
       "    function toolbar_mouse_event(event) {\n",
       "        return fig.toolbar_button_onmouseover(event['data']);\n",
       "    }\n",
       "\n",
       "    for(var toolbar_ind in mpl.toolbar_items){\n",
       "        var name = mpl.toolbar_items[toolbar_ind][0];\n",
       "        var tooltip = mpl.toolbar_items[toolbar_ind][1];\n",
       "        var image = mpl.toolbar_items[toolbar_ind][2];\n",
       "        var method_name = mpl.toolbar_items[toolbar_ind][3];\n",
       "\n",
       "        if (!name) { continue; };\n",
       "\n",
       "        var button = $('<button class=\"btn btn-default\" href=\"#\" title=\"' + name + '\"><i class=\"fa ' + image + ' fa-lg\"></i></button>');\n",
       "        button.click(method_name, toolbar_event);\n",
       "        button.mouseover(tooltip, toolbar_mouse_event);\n",
       "        nav_element.append(button);\n",
       "    }\n",
       "\n",
       "    // Add the status bar.\n",
       "    var status_bar = $('<span class=\"mpl-message\" style=\"text-align:right; float: right;\"/>');\n",
       "    nav_element.append(status_bar);\n",
       "    this.message = status_bar[0];\n",
       "\n",
       "    // Add the close button to the window.\n",
       "    var buttongrp = $('<div class=\"btn-group inline pull-right\"></div>');\n",
       "    var button = $('<button class=\"btn btn-mini btn-primary\" href=\"#\" title=\"Stop Interaction\"><i class=\"fa fa-power-off icon-remove icon-large\"></i></button>');\n",
       "    button.click(function (evt) { fig.handle_close(fig, {}); } );\n",
       "    button.mouseover('Stop Interaction', toolbar_mouse_event);\n",
       "    buttongrp.append(button);\n",
       "    var titlebar = this.root.find($('.ui-dialog-titlebar'));\n",
       "    titlebar.prepend(buttongrp);\n",
       "}\n",
       "\n",
       "mpl.figure.prototype._root_extra_style = function(el){\n",
       "    var fig = this\n",
       "    el.on(\"remove\", function(){\n",
       "\tfig.close_ws(fig, {});\n",
       "    });\n",
       "}\n",
       "\n",
       "mpl.figure.prototype._canvas_extra_style = function(el){\n",
       "    // this is important to make the div 'focusable\n",
       "    el.attr('tabindex', 0)\n",
       "    // reach out to IPython and tell the keyboard manager to turn it's self\n",
       "    // off when our div gets focus\n",
       "\n",
       "    // location in version 3\n",
       "    if (IPython.notebook.keyboard_manager) {\n",
       "        IPython.notebook.keyboard_manager.register_events(el);\n",
       "    }\n",
       "    else {\n",
       "        // location in version 2\n",
       "        IPython.keyboard_manager.register_events(el);\n",
       "    }\n",
       "\n",
       "}\n",
       "\n",
       "mpl.figure.prototype._key_event_extra = function(event, name) {\n",
       "    var manager = IPython.notebook.keyboard_manager;\n",
       "    if (!manager)\n",
       "        manager = IPython.keyboard_manager;\n",
       "\n",
       "    // Check for shift+enter\n",
       "    if (event.shiftKey && event.which == 13) {\n",
       "        this.canvas_div.blur();\n",
       "        // select the cell after this one\n",
       "        var index = IPython.notebook.find_cell_index(this.cell_info[0]);\n",
       "        IPython.notebook.select(index + 1);\n",
       "    }\n",
       "}\n",
       "\n",
       "mpl.figure.prototype.handle_save = function(fig, msg) {\n",
       "    fig.ondownload(fig, null);\n",
       "}\n",
       "\n",
       "\n",
       "mpl.find_output_cell = function(html_output) {\n",
       "    // Return the cell and output element which can be found *uniquely* in the notebook.\n",
       "    // Note - this is a bit hacky, but it is done because the \"notebook_saving.Notebook\"\n",
       "    // IPython event is triggered only after the cells have been serialised, which for\n",
       "    // our purposes (turning an active figure into a static one), is too late.\n",
       "    var cells = IPython.notebook.get_cells();\n",
       "    var ncells = cells.length;\n",
       "    for (var i=0; i<ncells; i++) {\n",
       "        var cell = cells[i];\n",
       "        if (cell.cell_type === 'code'){\n",
       "            for (var j=0; j<cell.output_area.outputs.length; j++) {\n",
       "                var data = cell.output_area.outputs[j];\n",
       "                if (data.data) {\n",
       "                    // IPython >= 3 moved mimebundle to data attribute of output\n",
       "                    data = data.data;\n",
       "                }\n",
       "                if (data['text/html'] == html_output) {\n",
       "                    return [cell, data, j];\n",
       "                }\n",
       "            }\n",
       "        }\n",
       "    }\n",
       "}\n",
       "\n",
       "// Register the function which deals with the matplotlib target/channel.\n",
       "// The kernel may be null if the page has been refreshed.\n",
       "if (IPython.notebook.kernel != null) {\n",
       "    IPython.notebook.kernel.comm_manager.register_target('matplotlib', mpl.mpl_figure_comm);\n",
       "}\n"
      ],
      "text/plain": [
       "<IPython.core.display.Javascript object>"
      ]
     },
     "metadata": {},
     "output_type": "display_data"
    },
    {
     "data": {
      "text/html": [
       "<img src=\"data:image/png;base64,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\" width=\"640\">"
      ],
      "text/plain": [
       "<IPython.core.display.HTML object>"
      ]
     },
     "metadata": {},
     "output_type": "display_data"
    },
    {
     "data": {
      "text/plain": [
       "([<matplotlib.axis.XTick at 0x214546f5988>,\n",
       "  <matplotlib.axis.XTick at 0x214546f5948>,\n",
       "  <matplotlib.axis.XTick at 0x214546f0f48>,\n",
       "  <matplotlib.axis.XTick at 0x21454755088>,\n",
       "  <matplotlib.axis.XTick at 0x21454755708>,\n",
       "  <matplotlib.axis.XTick at 0x214547591c8>,\n",
       "  <matplotlib.axis.XTick at 0x21454759b08>,\n",
       "  <matplotlib.axis.XTick at 0x214547550c8>,\n",
       "  <matplotlib.axis.XTick at 0x2145475d1c8>,\n",
       "  <matplotlib.axis.XTick at 0x2145475d048>],\n",
       " <a list of 10 Text major ticklabel objects>)"
      ]
     },
     "execution_count": 3,
     "metadata": {},
     "output_type": "execute_result"
    }
   ],
   "source": [
    "cr_range = np.arange(0, 100, 1)\n",
    "dmg_buff_required_strike = []\n",
    "for cr in cr_range:\n",
    "    avg_cdmg_mul_break = cal_avg_cdmg_mul_break(cr)\n",
    "    avg_cdmg_mul_lion = cal_avg_cdmg_mul_lion(cr)\n",
    "    idx_strike = find_intersection_points(avg_cdmg_mul_break, avg_cdmg_mul_lion)\n",
    "    dmg_buff_required_strike.append(dmg_buff[idx_strike][0])\n",
    "dmg_buff_required_strike = np.array(dmg_buff_required_strike)\n",
    "plt.plot(cr_range, dmg_buff_required_strike, color='orange')\n",
    "\n",
    "dmg_buff_required_break = []\n",
    "for cr in cr_range:\n",
    "    avg_cdmg_mul_break = cal_avg_cdmg_mul_break(cr)\n",
    "    avg_cdmg_mul_lion_break = cal_avg_cdmg_mul_lion_break(cr)\n",
    "    idx_break = find_intersection_points(avg_cdmg_mul_break, avg_cdmg_mul_lion_break)\n",
    "    if len(dmg_buff[idx_break]) == 0:\n",
    "        break\n",
    "    dmg_buff_required_break.append(dmg_buff[idx_break][0])\n",
    "dmg_buff_required_break = np.array(dmg_buff_required_break)\n",
    "plt.plot(cr_range[:len(dmg_buff_required_break)], dmg_buff_required_break, color='green')\n",
    "\n",
    "plt.legend([\"Equip Lion Helm, Break -> Strike\", \"Equip Lion Helm, keep Break\"])\n",
    "plt.xlabel(\"Crit Rate % without helmet\")\n",
    "plt.ylabel(\"Dmg Buff % required for Lion Helmet to be net positive\")\n",
    "plt.xticks(np.arange(0, 100, 10))"
   ]
  },
  {
   "cell_type": "code",
   "execution_count": null,
   "id": "a266f839",
   "metadata": {},
   "outputs": [],
   "source": []
  }
 ],
 "metadata": {
  "kernelspec": {
   "display_name": "Python 3",
   "language": "python",
   "name": "python3"
  },
  "language_info": {
   "codemirror_mode": {
    "name": "ipython",
    "version": 3
   },
   "file_extension": ".py",
   "mimetype": "text/x-python",
   "name": "python",
   "nbconvert_exporter": "python",
   "pygments_lexer": "ipython3",
   "version": "3.7.5"
  },
  "widgets": {
   "application/vnd.jupyter.widget-state+json": {
    "state": {
     "004fa8ecac8544899e494c4f9e070982": {
      "model_module": "@jupyter-widgets/controls",
      "model_module_version": "1.4.0",
      "model_name": "IntSliderModel",
      "state": {
       "description": "Crit Rate %:",
       "layout": "IPY_MODEL_21955590be5a41c1a519562b2babac65",
       "style": "IPY_MODEL_088e557ee4054b9bb1a72b228d8984f3",
       "value": 30
      }
     },
     "0124749c3997465b8ddca03a79e69d85": {
      "model_module": "@jupyter-widgets/base",
      "model_module_version": "1.1.0",
      "model_name": "LayoutModel",
      "state": {}
     },
     "012c1c89972c4880b2bb6509f4986dc4": {
      "model_module": "@jupyter-widgets/output",
      "model_module_version": "1.0.0",
      "model_name": "OutputModel",
      "state": {
       "layout": "IPY_MODEL_938f706fe1b6452da90eb164e6e55f44"
      }
     },
     "02aa5b94a8b64e5ea8e17a53c9b59202": {
      "model_module": "@jupyter-widgets/base",
      "model_module_version": "1.1.0",
      "model_name": "LayoutModel",
      "state": {}
     },
     "038d4d77806a44c898b348ac4c0e3d98": {
      "model_module": "@jupyter-widgets/controls",
      "model_module_version": "1.4.0",
      "model_name": "IntSliderModel",
      "state": {
       "description": "Crit Rate %:",
       "layout": "IPY_MODEL_9c17cab16758406db6f150d58162b3ae",
       "style": "IPY_MODEL_46cb66aaf4254be4ba54d5ab52b6f507",
       "value": 30
      }
     },
     "0480c65fde034f28952bb93ad34c94a3": {
      "model_module": "@jupyter-widgets/controls",
      "model_module_version": "1.4.0",
      "model_name": "VBoxModel",
      "state": {
       "_dom_classes": [
        "widget-interact"
       ],
       "children": [
        "IPY_MODEL_682ac95fa1c24afaa982c8e6f5b79529",
        "IPY_MODEL_f039c5dba12d49cb8fbd6b5b54396bb0"
       ],
       "layout": "IPY_MODEL_a16624a320bf451d9b8fbc34b428b29c"
      }
     },
     "0594ebf9e9034d97894609b4851042e5": {
      "model_module": "@jupyter-widgets/controls",
      "model_module_version": "1.4.0",
      "model_name": "SliderStyleModel",
      "state": {
       "description_width": ""
      }
     },
     "05a78f3e542b49e3b144eb1fd4064e53": {
      "model_module": "@jupyter-widgets/base",
      "model_module_version": "1.1.0",
      "model_name": "LayoutModel",
      "state": {}
     },
     "05ad3aef105d4a9997c53c3ce8a233da": {
      "model_module": "@jupyter-widgets/controls",
      "model_module_version": "1.4.0",
      "model_name": "SliderStyleModel",
      "state": {
       "description_width": ""
      }
     },
     "088e557ee4054b9bb1a72b228d8984f3": {
      "model_module": "@jupyter-widgets/controls",
      "model_module_version": "1.4.0",
      "model_name": "SliderStyleModel",
      "state": {
       "description_width": ""
      }
     },
     "089fbe2c285f48648d1495c238e83bdf": {
      "model_module": "@jupyter-widgets/output",
      "model_module_version": "1.0.0",
      "model_name": "OutputModel",
      "state": {
       "layout": "IPY_MODEL_61029e84777c49488f46a00f6bf4a62d",
       "outputs": [
        {
         "ename": "AttributeError",
         "evalue": "'list' object has no attribute 'set_ydata'",
         "output_type": "error",
         "traceback": [
          "\u001b[1;31m---------------------------------------------------------------------------\u001b[0m",
          "\u001b[1;31mAttributeError\u001b[0m                            Traceback (most recent call last)",
          "\u001b[1;32mD:\\Python\\Anaconda3\\envs\\py3.7\\lib\\site-packages\\ipywidgets\\widgets\\interaction.py\u001b[0m in \u001b[0;36mupdate\u001b[1;34m(self, *args)\u001b[0m\n\u001b[0;32m    249\u001b[0m                     \u001b[0mvalue\u001b[0m \u001b[1;33m=\u001b[0m \u001b[0mwidget\u001b[0m\u001b[1;33m.\u001b[0m\u001b[0mget_interact_value\u001b[0m\u001b[1;33m(\u001b[0m\u001b[1;33m)\u001b[0m\u001b[1;33m\u001b[0m\u001b[1;33m\u001b[0m\u001b[0m\n\u001b[0;32m    250\u001b[0m                     \u001b[0mself\u001b[0m\u001b[1;33m.\u001b[0m\u001b[0mkwargs\u001b[0m\u001b[1;33m[\u001b[0m\u001b[0mwidget\u001b[0m\u001b[1;33m.\u001b[0m\u001b[0m_kwarg\u001b[0m\u001b[1;33m]\u001b[0m \u001b[1;33m=\u001b[0m \u001b[0mvalue\u001b[0m\u001b[1;33m\u001b[0m\u001b[1;33m\u001b[0m\u001b[0m\n\u001b[1;32m--> 251\u001b[1;33m                 \u001b[0mself\u001b[0m\u001b[1;33m.\u001b[0m\u001b[0mresult\u001b[0m \u001b[1;33m=\u001b[0m \u001b[0mself\u001b[0m\u001b[1;33m.\u001b[0m\u001b[0mf\u001b[0m\u001b[1;33m(\u001b[0m\u001b[1;33m**\u001b[0m\u001b[0mself\u001b[0m\u001b[1;33m.\u001b[0m\u001b[0mkwargs\u001b[0m\u001b[1;33m)\u001b[0m\u001b[1;33m\u001b[0m\u001b[1;33m\u001b[0m\u001b[0m\n\u001b[0m\u001b[0;32m    252\u001b[0m                 \u001b[0mshow_inline_matplotlib_plots\u001b[0m\u001b[1;33m(\u001b[0m\u001b[1;33m)\u001b[0m\u001b[1;33m\u001b[0m\u001b[1;33m\u001b[0m\u001b[0m\n\u001b[0;32m    253\u001b[0m                 \u001b[1;32mif\u001b[0m \u001b[0mself\u001b[0m\u001b[1;33m.\u001b[0m\u001b[0mauto_display\u001b[0m \u001b[1;32mand\u001b[0m \u001b[0mself\u001b[0m\u001b[1;33m.\u001b[0m\u001b[0mresult\u001b[0m \u001b[1;32mis\u001b[0m \u001b[1;32mnot\u001b[0m \u001b[1;32mNone\u001b[0m\u001b[1;33m:\u001b[0m\u001b[1;33m\u001b[0m\u001b[1;33m\u001b[0m\u001b[0m\n",
          "\u001b[1;32m<ipython-input-59-332860a8cc51>\u001b[0m in \u001b[0;36mupdate\u001b[1;34m()\u001b[0m\n\u001b[0;32m      2\u001b[0m \u001b[1;32mdef\u001b[0m \u001b[0mupdate\u001b[0m\u001b[1;33m(\u001b[0m\u001b[1;33m)\u001b[0m\u001b[1;33m:\u001b[0m\u001b[1;33m\u001b[0m\u001b[1;33m\u001b[0m\u001b[0m\n\u001b[0;32m      3\u001b[0m     \u001b[0mcr\u001b[0m \u001b[1;33m=\u001b[0m \u001b[0ms_cr\u001b[0m\u001b[1;33m.\u001b[0m\u001b[0mval\u001b[0m\u001b[1;33m\u001b[0m\u001b[1;33m\u001b[0m\u001b[0m\n\u001b[1;32m----> 4\u001b[1;33m     \u001b[0mp_break\u001b[0m\u001b[1;33m.\u001b[0m\u001b[0mset_ydata\u001b[0m\u001b[1;33m(\u001b[0m\u001b[0mcal_avg_cdmg_mul_break\u001b[0m\u001b[1;33m(\u001b[0m\u001b[0mcr\u001b[0m\u001b[1;33m)\u001b[0m\u001b[1;33m)\u001b[0m\u001b[1;33m\u001b[0m\u001b[1;33m\u001b[0m\u001b[0m\n\u001b[0m\u001b[0;32m      5\u001b[0m     \u001b[0mp_lion\u001b[0m\u001b[1;33m.\u001b[0m\u001b[0mset_ydata\u001b[0m\u001b[1;33m(\u001b[0m\u001b[0mcal_avg_cdmg_mul_lion\u001b[0m\u001b[1;33m(\u001b[0m\u001b[0mcr\u001b[0m\u001b[1;33m)\u001b[0m\u001b[1;33m)\u001b[0m\u001b[1;33m\u001b[0m\u001b[1;33m\u001b[0m\u001b[0m\n\u001b[0;32m      6\u001b[0m     \u001b[0mfig\u001b[0m\u001b[1;33m.\u001b[0m\u001b[0mcanvas\u001b[0m\u001b[1;33m.\u001b[0m\u001b[0mdraw_idle\u001b[0m\u001b[1;33m(\u001b[0m\u001b[1;33m)\u001b[0m\u001b[1;33m\u001b[0m\u001b[1;33m\u001b[0m\u001b[0m\n",
          "\u001b[1;31mAttributeError\u001b[0m: 'list' object has no attribute 'set_ydata'"
         ]
        }
       ]
      }
     },
     "0b82aa947efa49ab8abc504283954050": {
      "model_module": "@jupyter-widgets/base",
      "model_module_version": "1.1.0",
      "model_name": "LayoutModel",
      "state": {}
     },
     "0bd36371e24f48979ef2e063244d7a6d": {
      "model_module": "@jupyter-widgets/controls",
      "model_module_version": "1.4.0",
      "model_name": "SliderStyleModel",
      "state": {
       "description_width": ""
      }
     },
     "0c1d46c2e4b24a548ffbf2d9f93fed50": {
      "model_module": "@jupyter-widgets/base",
      "model_module_version": "1.1.0",
      "model_name": "LayoutModel",
      "state": {}
     },
     "0f10807c82e14b6fa32e30a29df625f4": {
      "model_module": "@jupyter-widgets/controls",
      "model_module_version": "1.4.0",
      "model_name": "SliderStyleModel",
      "state": {
       "description_width": ""
      }
     },
     "10c246eeaaf24c73b63251cdfe47d7a6": {
      "model_module": "@jupyter-widgets/base",
      "model_module_version": "1.1.0",
      "model_name": "LayoutModel",
      "state": {}
     },
     "1121f10ecc3e475ebb9f112dcf1fac14": {
      "model_module": "@jupyter-widgets/base",
      "model_module_version": "1.1.0",
      "model_name": "LayoutModel",
      "state": {}
     },
     "1184980417544eed9e1ad46287d95536": {
      "model_module": "@jupyter-widgets/base",
      "model_module_version": "1.1.0",
      "model_name": "LayoutModel",
      "state": {}
     },
     "15832399a93f4dc7a9f88a0d7b3d2aa4": {
      "model_module": "@jupyter-widgets/controls",
      "model_module_version": "1.4.0",
      "model_name": "VBoxModel",
      "state": {
       "_dom_classes": [
        "widget-interact"
       ],
       "children": [
        "IPY_MODEL_230f40698ad940fd87bd35a8dcfb337e",
        "IPY_MODEL_d8112f2a9fd84715b10f77744f426550"
       ],
       "layout": "IPY_MODEL_8ad0868c377e44329aca5d654b95c59e"
      }
     },
     "1618faf6d6584fd7a59ebbca73353f74": {
      "model_module": "@jupyter-widgets/base",
      "model_module_version": "1.1.0",
      "model_name": "LayoutModel",
      "state": {}
     },
     "16738ace2a9543d585a1dae60930fd7e": {
      "model_module": "@jupyter-widgets/controls",
      "model_module_version": "1.4.0",
      "model_name": "IntSliderModel",
      "state": {
       "description": "Crit Rate %:",
       "layout": "IPY_MODEL_8ca084b486c54cb89b099a1006343e0b",
       "style": "IPY_MODEL_4d78811b9a704706bcadabc2b3fddc31",
       "value": 30
      }
     },
     "17424171b85147f090e9b6501a2476a7": {
      "model_module": "@jupyter-widgets/controls",
      "model_module_version": "1.4.0",
      "model_name": "SliderStyleModel",
      "state": {
       "description_width": ""
      }
     },
     "199eba8843f94b76ba92329a34500c65": {
      "model_module": "@jupyter-widgets/base",
      "model_module_version": "1.1.0",
      "model_name": "LayoutModel",
      "state": {}
     },
     "1d0a6957c48e417c87f1e8e2addf3dfe": {
      "model_module": "@jupyter-widgets/base",
      "model_module_version": "1.1.0",
      "model_name": "LayoutModel",
      "state": {}
     },
     "20850b330d5a45afac6ac972fc67f084": {
      "model_module": "@jupyter-widgets/base",
      "model_module_version": "1.1.0",
      "model_name": "LayoutModel",
      "state": {}
     },
     "21955590be5a41c1a519562b2babac65": {
      "model_module": "@jupyter-widgets/base",
      "model_module_version": "1.1.0",
      "model_name": "LayoutModel",
      "state": {}
     },
     "21f6b4a9db6f4ef39390bc6fd06fd8ae": {
      "model_module": "@jupyter-widgets/base",
      "model_module_version": "1.1.0",
      "model_name": "LayoutModel",
      "state": {}
     },
     "223a2545231443bd871979d63d52207e": {
      "model_module": "@jupyter-widgets/output",
      "model_module_version": "1.0.0",
      "model_name": "OutputModel",
      "state": {
       "layout": "IPY_MODEL_970b824857e94af0966533acd5cc8cff"
      }
     },
     "22afb323b892496cadc8614d5fe26091": {
      "model_module": "@jupyter-widgets/controls",
      "model_module_version": "1.4.0",
      "model_name": "IntSliderModel",
      "state": {
       "description": "Crit Rate % without helmet:",
       "layout": "IPY_MODEL_ce586699f2c0404da7e70335a063aa50",
       "style": "IPY_MODEL_7157f613b5104fc78154cd04a913d561",
       "value": 30
      }
     },
     "230f40698ad940fd87bd35a8dcfb337e": {
      "model_module": "@jupyter-widgets/controls",
      "model_module_version": "1.4.0",
      "model_name": "IntSliderModel",
      "state": {
       "description": "Crit Rate % without helmet:",
       "layout": "IPY_MODEL_bf15abdaff374a52b4962c70e17bd6d3",
       "style": "IPY_MODEL_8faae386a108431db50ef521bdcb78a0",
       "value": 30
      }
     },
     "24c66e7a41e543118b9de1dfd2306688": {
      "model_module": "@jupyter-widgets/base",
      "model_module_version": "1.1.0",
      "model_name": "LayoutModel",
      "state": {}
     },
     "26ede6f911a144a286e449df540b4f2f": {
      "model_module": "@jupyter-widgets/base",
      "model_module_version": "1.1.0",
      "model_name": "LayoutModel",
      "state": {}
     },
     "287a9261a7ff4908b79df212a71669b6": {
      "model_module": "@jupyter-widgets/controls",
      "model_module_version": "1.4.0",
      "model_name": "SliderStyleModel",
      "state": {
       "description_width": ""
      }
     },
     "29bf30aed40649f297b98eb5a941db58": {
      "model_module": "@jupyter-widgets/base",
      "model_module_version": "1.1.0",
      "model_name": "LayoutModel",
      "state": {}
     },
     "2cfb75a3023c4892aa285aaa38f9b22f": {
      "model_module": "@jupyter-widgets/output",
      "model_module_version": "1.0.0",
      "model_name": "OutputModel",
      "state": {
       "layout": "IPY_MODEL_c98e400816e64f8bae3ff47d096693b0"
      }
     },
     "2f7420c2a5564abc99fde54c3b4c8b31": {
      "model_module": "@jupyter-widgets/output",
      "model_module_version": "1.0.0",
      "model_name": "OutputModel",
      "state": {
       "layout": "IPY_MODEL_56d41ff7fef0472c9a4eb82446e2352f"
      }
     },
     "2f7c2149ed8f438b908a02ad309c4c36": {
      "model_module": "@jupyter-widgets/base",
      "model_module_version": "1.1.0",
      "model_name": "LayoutModel",
      "state": {}
     },
     "32c3ddec4df04db5b5893571ff0212c6": {
      "model_module": "@jupyter-widgets/controls",
      "model_module_version": "1.4.0",
      "model_name": "VBoxModel",
      "state": {
       "_dom_classes": [
        "widget-interact"
       ],
       "children": [
        "IPY_MODEL_ef58b31f642d4aad84cf22dba60a4cbe",
        "IPY_MODEL_8115ee3a86fa4dffb0fb6efde20a2a08"
       ],
       "layout": "IPY_MODEL_199eba8843f94b76ba92329a34500c65"
      }
     },
     "34bc2c7773524cc4b7cbadf940642058": {
      "model_module": "@jupyter-widgets/controls",
      "model_module_version": "1.4.0",
      "model_name": "VBoxModel",
      "state": {
       "_dom_classes": [
        "widget-interact"
       ],
       "children": [
        "IPY_MODEL_038d4d77806a44c898b348ac4c0e3d98",
        "IPY_MODEL_6df604371be14c09ae745509d6e0b6d3"
       ],
       "layout": "IPY_MODEL_f33ea62ac8e54d54823bc416ead7ab04"
      }
     },
     "355ed342d6c7420e820dbb0ec5a6e35d": {
      "model_module": "@jupyter-widgets/controls",
      "model_module_version": "1.4.0",
      "model_name": "IntSliderModel",
      "state": {
       "description": "Crit Rate % without helmet:",
       "layout": "IPY_MODEL_ef942d741d69409387fce79cf915fd4d",
       "style": "IPY_MODEL_a66c881c75bb44b89a7dae30e0710afe",
       "value": 30
      }
     },
     "360deffa3bf04a6d96e957a313b3ba8f": {
      "model_module": "@jupyter-widgets/base",
      "model_module_version": "1.1.0",
      "model_name": "LayoutModel",
      "state": {}
     },
     "36b51f7a70054fa6a906b2d2cbc6dbcf": {
      "model_module": "@jupyter-widgets/controls",
      "model_module_version": "1.4.0",
      "model_name": "VBoxModel",
      "state": {
       "_dom_classes": [
        "widget-interact"
       ],
       "layout": "IPY_MODEL_a9eebe500a134b7a99c858e625d1b5c4"
      }
     },
     "37fea4eaa8734600a1989e60f7b60201": {
      "model_module": "@jupyter-widgets/base",
      "model_module_version": "1.1.0",
      "model_name": "LayoutModel",
      "state": {}
     },
     "3a2c7b2bf8e144b08c8f4bab82f9c07b": {
      "model_module": "@jupyter-widgets/base",
      "model_module_version": "1.1.0",
      "model_name": "LayoutModel",
      "state": {}
     },
     "3d311fcbc81e4897816ca1eee2025402": {
      "model_module": "@jupyter-widgets/controls",
      "model_module_version": "1.4.0",
      "model_name": "IntSliderModel",
      "state": {
       "description": "cr",
       "layout": "IPY_MODEL_0c1d46c2e4b24a548ffbf2d9f93fed50",
       "max": 90,
       "min": -30,
       "style": "IPY_MODEL_80625ed3f5184e45aca86bf64eb48713",
       "value": 31
      }
     },
     "3ef6baf3bb3045cd8271c98edab72bf5": {
      "model_module": "@jupyter-widgets/base",
      "model_module_version": "1.1.0",
      "model_name": "LayoutModel",
      "state": {}
     },
     "3f3774b3c11f4ea0a7f13d6a0e3ab230": {
      "model_module": "@jupyter-widgets/controls",
      "model_module_version": "1.4.0",
      "model_name": "IntSliderModel",
      "state": {
       "description": "Crit Rate %:",
       "layout": "IPY_MODEL_24c66e7a41e543118b9de1dfd2306688",
       "style": "IPY_MODEL_8af3e2e8e5e14e6e9d56eb77dfc60f06"
      }
     },
     "3f8edb585a1546f2947a29003884e7e3": {
      "model_module": "@jupyter-widgets/output",
      "model_module_version": "1.0.0",
      "model_name": "OutputModel",
      "state": {
       "layout": "IPY_MODEL_8f7637edc1c04b8291665a30ce0ec925"
      }
     },
     "4016008d756e4282a2c1391fbefa86b6": {
      "model_module": "@jupyter-widgets/controls",
      "model_module_version": "1.4.0",
      "model_name": "SliderStyleModel",
      "state": {
       "description_width": ""
      }
     },
     "4291f52d5c5545e4b021c3691816fbda": {
      "model_module": "@jupyter-widgets/output",
      "model_module_version": "1.0.0",
      "model_name": "OutputModel",
      "state": {
       "layout": "IPY_MODEL_26ede6f911a144a286e449df540b4f2f"
      }
     },
     "46b7581b81ab4785bb2d1ceed072b7ab": {
      "model_module": "@jupyter-widgets/controls",
      "model_module_version": "1.4.0",
      "model_name": "VBoxModel",
      "state": {
       "_dom_classes": [
        "widget-interact"
       ],
       "children": [
        "IPY_MODEL_58fa46db71174a8cbdc9c1a443ceddd8",
        "IPY_MODEL_76bce7c94a884379b91ab71a99f03f2a"
       ],
       "layout": "IPY_MODEL_93f0cd1e39c14d4783092d10e9d6a56e"
      }
     },
     "46cb66aaf4254be4ba54d5ab52b6f507": {
      "model_module": "@jupyter-widgets/controls",
      "model_module_version": "1.4.0",
      "model_name": "SliderStyleModel",
      "state": {
       "description_width": ""
      }
     },
     "48f374a805fa42ff89d91f2a5d3a0a42": {
      "model_module": "@jupyter-widgets/base",
      "model_module_version": "1.1.0",
      "model_name": "LayoutModel",
      "state": {}
     },
     "4938e33564b3481d92b3fe7d625ed9cd": {
      "model_module": "@jupyter-widgets/output",
      "model_module_version": "1.0.0",
      "model_name": "OutputModel",
      "state": {
       "layout": "IPY_MODEL_53fc218497834947b84491501ede7beb"
      }
     },
     "4a0d5d70b0164d089e205750ee99db67": {
      "model_module": "@jupyter-widgets/base",
      "model_module_version": "1.1.0",
      "model_name": "LayoutModel",
      "state": {}
     },
     "4acc9c1201834cb1a30c12552263cd71": {
      "model_module": "@jupyter-widgets/controls",
      "model_module_version": "1.4.0",
      "model_name": "VBoxModel",
      "state": {
       "_dom_classes": [
        "widget-interact"
       ],
       "children": [
        "IPY_MODEL_3d311fcbc81e4897816ca1eee2025402",
        "IPY_MODEL_977fec2c066e4d8eab0434c70851a7f7"
       ],
       "layout": "IPY_MODEL_48f374a805fa42ff89d91f2a5d3a0a42"
      }
     },
     "4b491eff9fe34b1ab66fefb944df627d": {
      "model_module": "@jupyter-widgets/base",
      "model_module_version": "1.1.0",
      "model_name": "LayoutModel",
      "state": {}
     },
     "4b564048147244529b9634a2ea63dec9": {
      "model_module": "@jupyter-widgets/controls",
      "model_module_version": "1.4.0",
      "model_name": "SliderStyleModel",
      "state": {
       "description_width": ""
      }
     },
     "4d78811b9a704706bcadabc2b3fddc31": {
      "model_module": "@jupyter-widgets/controls",
      "model_module_version": "1.4.0",
      "model_name": "SliderStyleModel",
      "state": {
       "description_width": ""
      }
     },
     "4f22e7d5c08041158bae63fa29ca3744": {
      "model_module": "@jupyter-widgets/base",
      "model_module_version": "1.1.0",
      "model_name": "LayoutModel",
      "state": {}
     },
     "5123e61f54b1472fa8d270a7b1db34ec": {
      "model_module": "@jupyter-widgets/controls",
      "model_module_version": "1.4.0",
      "model_name": "VBoxModel",
      "state": {
       "_dom_classes": [
        "widget-interact"
       ],
       "children": [
        "IPY_MODEL_3f3774b3c11f4ea0a7f13d6a0e3ab230",
        "IPY_MODEL_6459ae0fe4504f65aedd2854d98a7b7c"
       ],
       "layout": "IPY_MODEL_3a2c7b2bf8e144b08c8f4bab82f9c07b"
      }
     },
     "514569134c44413f99dd4e9cc3a868c6": {
      "model_module": "@jupyter-widgets/base",
      "model_module_version": "1.1.0",
      "model_name": "LayoutModel",
      "state": {}
     },
     "52b5b064053241a9a2c74e2d129efe9d": {
      "model_module": "@jupyter-widgets/output",
      "model_module_version": "1.0.0",
      "model_name": "OutputModel",
      "state": {
       "layout": "IPY_MODEL_3ef6baf3bb3045cd8271c98edab72bf5"
      }
     },
     "53fc218497834947b84491501ede7beb": {
      "model_module": "@jupyter-widgets/base",
      "model_module_version": "1.1.0",
      "model_name": "LayoutModel",
      "state": {}
     },
     "548981648ba243ab8f54d052726b20b6": {
      "model_module": "@jupyter-widgets/base",
      "model_module_version": "1.1.0",
      "model_name": "LayoutModel",
      "state": {}
     },
     "558388605d2a45ebb391db7a5cebe3a2": {
      "model_module": "@jupyter-widgets/controls",
      "model_module_version": "1.4.0",
      "model_name": "VBoxModel",
      "state": {
       "_dom_classes": [
        "widget-interact"
       ],
       "children": [
        "IPY_MODEL_22afb323b892496cadc8614d5fe26091",
        "IPY_MODEL_2f7420c2a5564abc99fde54c3b4c8b31"
       ],
       "layout": "IPY_MODEL_10c246eeaaf24c73b63251cdfe47d7a6"
      }
     },
     "5624bc8a0dbc414a84d9796c6bc9cd29": {
      "model_module": "@jupyter-widgets/controls",
      "model_module_version": "1.4.0",
      "model_name": "VBoxModel",
      "state": {
       "_dom_classes": [
        "widget-interact"
       ],
       "children": [
        "IPY_MODEL_cc8d6c2be83a4141be87b355d4f89ffd",
        "IPY_MODEL_942bc1812ca745cb921d60ddd4b6a06e"
       ],
       "layout": "IPY_MODEL_b4ff5897a3104872b9173a66590a6d36"
      }
     },
     "5689924e5d6c41aeb3e430c84e6e9fec": {
      "model_module": "@jupyter-widgets/base",
      "model_module_version": "1.1.0",
      "model_name": "LayoutModel",
      "state": {}
     },
     "56d41ff7fef0472c9a4eb82446e2352f": {
      "model_module": "@jupyter-widgets/base",
      "model_module_version": "1.1.0",
      "model_name": "LayoutModel",
      "state": {}
     },
     "57cf955dd2cf49ee97ef3271ac5790ae": {
      "model_module": "@jupyter-widgets/controls",
      "model_module_version": "1.4.0",
      "model_name": "IntSliderModel",
      "state": {
       "description": "Crit Rate % without helmet:",
       "layout": "IPY_MODEL_21f6b4a9db6f4ef39390bc6fd06fd8ae",
       "style": "IPY_MODEL_64fbca44946b4e9c97afa967af8c45d3",
       "value": 30
      }
     },
     "5815166c3e9347f19e1e2635695d5632": {
      "model_module": "@jupyter-widgets/base",
      "model_module_version": "1.1.0",
      "model_name": "LayoutModel",
      "state": {}
     },
     "589b69d6d40b4c7987b0c7ab0ac2e1c9": {
      "model_module": "@jupyter-widgets/base",
      "model_module_version": "1.1.0",
      "model_name": "LayoutModel",
      "state": {}
     },
     "58fa46db71174a8cbdc9c1a443ceddd8": {
      "model_module": "@jupyter-widgets/controls",
      "model_module_version": "1.4.0",
      "model_name": "IntSliderModel",
      "state": {
       "description": "Crit Rate %:",
       "layout": "IPY_MODEL_b1e33c5ad6e04057a0aba78d8d52d28f",
       "style": "IPY_MODEL_4b564048147244529b9634a2ea63dec9"
      }
     },
     "590f8e647ee64438b444b0977abd43fe": {
      "model_module": "@jupyter-widgets/output",
      "model_module_version": "1.0.0",
      "model_name": "OutputModel",
      "state": {
       "layout": "IPY_MODEL_0b82aa947efa49ab8abc504283954050"
      }
     },
     "59c7b351c9be4523b9a8d4f312e7dcf3": {
      "model_module": "@jupyter-widgets/controls",
      "model_module_version": "1.4.0",
      "model_name": "SliderStyleModel",
      "state": {
       "description_width": ""
      }
     },
     "5c80dbd89b9e4892ba5c44f73191563f": {
      "model_module": "@jupyter-widgets/base",
      "model_module_version": "1.1.0",
      "model_name": "LayoutModel",
      "state": {}
     },
     "5ebe3c5ca1bc461a85dd2ea1abc998bb": {
      "model_module": "@jupyter-widgets/output",
      "model_module_version": "1.0.0",
      "model_name": "OutputModel",
      "state": {
       "layout": "IPY_MODEL_a195237ac88f40a9a8ee23235740e53a"
      }
     },
     "5f878b9a662d41df83a44e19c054a960": {
      "model_module": "@jupyter-widgets/controls",
      "model_module_version": "1.4.0",
      "model_name": "VBoxModel",
      "state": {
       "_dom_classes": [
        "widget-interact"
       ],
       "children": [
        "IPY_MODEL_004fa8ecac8544899e494c4f9e070982",
        "IPY_MODEL_5ebe3c5ca1bc461a85dd2ea1abc998bb"
       ],
       "layout": "IPY_MODEL_771a7412c4b542bc9c4830359a234037"
      }
     },
     "600c122b07ab493496ba688ddb863c5e": {
      "model_module": "@jupyter-widgets/output",
      "model_module_version": "1.0.0",
      "model_name": "OutputModel",
      "state": {
       "layout": "IPY_MODEL_37fea4eaa8734600a1989e60f7b60201"
      }
     },
     "60bd82087ac44b50b77cea659ac67592": {
      "model_module": "@jupyter-widgets/base",
      "model_module_version": "1.1.0",
      "model_name": "LayoutModel",
      "state": {}
     },
     "61029e84777c49488f46a00f6bf4a62d": {
      "model_module": "@jupyter-widgets/base",
      "model_module_version": "1.1.0",
      "model_name": "LayoutModel",
      "state": {}
     },
     "616da85ccca74762a4a5b279b659675c": {
      "model_module": "@jupyter-widgets/base",
      "model_module_version": "1.1.0",
      "model_name": "LayoutModel",
      "state": {}
     },
     "626bbfbc572e4596836abb1231f487bb": {
      "model_module": "@jupyter-widgets/controls",
      "model_module_version": "1.4.0",
      "model_name": "VBoxModel",
      "state": {
       "_dom_classes": [
        "widget-interact"
       ],
       "children": [
        "IPY_MODEL_e6fed208f8c94a13b6344873cad59003",
        "IPY_MODEL_fa885a0958fc429ebbf8b4b2a89b376f"
       ],
       "layout": "IPY_MODEL_d29e815bdb764d30824409195c53154a"
      }
     },
     "6459ae0fe4504f65aedd2854d98a7b7c": {
      "model_module": "@jupyter-widgets/output",
      "model_module_version": "1.0.0",
      "model_name": "OutputModel",
      "state": {
       "layout": "IPY_MODEL_73dd41e6f2fe4d87b279af042d03d0aa"
      }
     },
     "6469bf5b450c4fe6ab164a6c23268110": {
      "model_module": "@jupyter-widgets/controls",
      "model_module_version": "1.4.0",
      "model_name": "VBoxModel",
      "state": {
       "_dom_classes": [
        "widget-interact"
       ],
       "children": [
        "IPY_MODEL_57cf955dd2cf49ee97ef3271ac5790ae",
        "IPY_MODEL_8b90629998da4a64ae393e68d11e9e40"
       ],
       "layout": "IPY_MODEL_c84b7df99ec8440f961dfa2d759155dd"
      }
     },
     "64fbca44946b4e9c97afa967af8c45d3": {
      "model_module": "@jupyter-widgets/controls",
      "model_module_version": "1.4.0",
      "model_name": "SliderStyleModel",
      "state": {
       "description_width": ""
      }
     },
     "661a67a74c344fa38bde80f3424e1bd1": {
      "model_module": "@jupyter-widgets/base",
      "model_module_version": "1.1.0",
      "model_name": "LayoutModel",
      "state": {}
     },
     "680e65a088c043a9a9ce3b31ccfbfbcf": {
      "model_module": "@jupyter-widgets/base",
      "model_module_version": "1.1.0",
      "model_name": "LayoutModel",
      "state": {}
     },
     "682ac95fa1c24afaa982c8e6f5b79529": {
      "model_module": "@jupyter-widgets/controls",
      "model_module_version": "1.4.0",
      "model_name": "IntSliderModel",
      "state": {
       "description": "Crit Rate % without helmet:",
       "layout": "IPY_MODEL_0124749c3997465b8ddca03a79e69d85",
       "style": "IPY_MODEL_7216e27220104561aceceddd8f5553f3"
      }
     },
     "683277d16a5948089de3219f83122cf5": {
      "model_module": "@jupyter-widgets/controls",
      "model_module_version": "1.4.0",
      "model_name": "VBoxModel",
      "state": {
       "_dom_classes": [
        "widget-interact"
       ],
       "children": [
        "IPY_MODEL_2cfb75a3023c4892aa285aaa38f9b22f"
       ],
       "layout": "IPY_MODEL_360deffa3bf04a6d96e957a313b3ba8f"
      }
     },
     "68ceedd3bae14082b478b426a66c78bb": {
      "model_module": "@jupyter-widgets/controls",
      "model_module_version": "1.4.0",
      "model_name": "IntSliderModel",
      "state": {
       "description": "Crit Rate %:",
       "layout": "IPY_MODEL_1d0a6957c48e417c87f1e8e2addf3dfe",
       "style": "IPY_MODEL_0594ebf9e9034d97894609b4851042e5",
       "value": 14
      }
     },
     "691b74dca9924b88991b676ef46ce01d": {
      "model_module": "@jupyter-widgets/controls",
      "model_module_version": "1.4.0",
      "model_name": "SliderStyleModel",
      "state": {
       "description_width": ""
      }
     },
     "69815bd184f14610b47b4c639dca2876": {
      "model_module": "@jupyter-widgets/output",
      "model_module_version": "1.0.0",
      "model_name": "OutputModel",
      "state": {
       "layout": "IPY_MODEL_f9fc199760c64bd29e333aff4af7315e"
      }
     },
     "6c8ceff1cb5f464f9392dca60028b91f": {
      "model_module": "@jupyter-widgets/base",
      "model_module_version": "1.1.0",
      "model_name": "LayoutModel",
      "state": {}
     },
     "6df604371be14c09ae745509d6e0b6d3": {
      "model_module": "@jupyter-widgets/output",
      "model_module_version": "1.0.0",
      "model_name": "OutputModel",
      "state": {
       "layout": "IPY_MODEL_b87d10370f6442609e2f0fab84a45634"
      }
     },
     "6eae6e3e4dcd4029bff4b2642dd6f9c6": {
      "model_module": "@jupyter-widgets/controls",
      "model_module_version": "1.4.0",
      "model_name": "IntSliderModel",
      "state": {
       "description": "Crit Rate % without helmet:",
       "layout": "IPY_MODEL_589b69d6d40b4c7987b0c7ab0ac2e1c9",
       "style": "IPY_MODEL_eae076dcb393410cbd2c2e35adf577fa",
       "value": 30
      }
     },
     "708f3221d2fe48f5ac9199fb8dc50f00": {
      "model_module": "@jupyter-widgets/controls",
      "model_module_version": "1.4.0",
      "model_name": "IntSliderModel",
      "state": {
       "description": "Crit Rate % without helmet:",
       "layout": "IPY_MODEL_f4e94d62bd14499f923a68f13cbd6986",
       "style": "IPY_MODEL_78fd013520ca42fb9b5cf29f0c31e76c",
       "value": 30
      }
     },
     "7157f613b5104fc78154cd04a913d561": {
      "model_module": "@jupyter-widgets/controls",
      "model_module_version": "1.4.0",
      "model_name": "SliderStyleModel",
      "state": {
       "description_width": ""
      }
     },
     "718aef25edcf4b7f8cab38cb1134addd": {
      "model_module": "@jupyter-widgets/output",
      "model_module_version": "1.0.0",
      "model_name": "OutputModel",
      "state": {
       "layout": "IPY_MODEL_ec746842d5874e0abb77816fa4610be1",
       "outputs": [
        {
         "ename": "AttributeError",
         "evalue": "'list' object has no attribute 'set_ydata'",
         "output_type": "error",
         "traceback": [
          "\u001b[1;31m---------------------------------------------------------------------------\u001b[0m",
          "\u001b[1;31mAttributeError\u001b[0m                            Traceback (most recent call last)",
          "\u001b[1;32mD:\\Python\\Anaconda3\\envs\\py3.7\\lib\\site-packages\\ipywidgets\\widgets\\interaction.py\u001b[0m in \u001b[0;36mupdate\u001b[1;34m(self, *args)\u001b[0m\n\u001b[0;32m    249\u001b[0m                     \u001b[0mvalue\u001b[0m \u001b[1;33m=\u001b[0m \u001b[0mwidget\u001b[0m\u001b[1;33m.\u001b[0m\u001b[0mget_interact_value\u001b[0m\u001b[1;33m(\u001b[0m\u001b[1;33m)\u001b[0m\u001b[1;33m\u001b[0m\u001b[1;33m\u001b[0m\u001b[0m\n\u001b[0;32m    250\u001b[0m                     \u001b[0mself\u001b[0m\u001b[1;33m.\u001b[0m\u001b[0mkwargs\u001b[0m\u001b[1;33m[\u001b[0m\u001b[0mwidget\u001b[0m\u001b[1;33m.\u001b[0m\u001b[0m_kwarg\u001b[0m\u001b[1;33m]\u001b[0m \u001b[1;33m=\u001b[0m \u001b[0mvalue\u001b[0m\u001b[1;33m\u001b[0m\u001b[1;33m\u001b[0m\u001b[0m\n\u001b[1;32m--> 251\u001b[1;33m                 \u001b[0mself\u001b[0m\u001b[1;33m.\u001b[0m\u001b[0mresult\u001b[0m \u001b[1;33m=\u001b[0m \u001b[0mself\u001b[0m\u001b[1;33m.\u001b[0m\u001b[0mf\u001b[0m\u001b[1;33m(\u001b[0m\u001b[1;33m**\u001b[0m\u001b[0mself\u001b[0m\u001b[1;33m.\u001b[0m\u001b[0mkwargs\u001b[0m\u001b[1;33m)\u001b[0m\u001b[1;33m\u001b[0m\u001b[1;33m\u001b[0m\u001b[0m\n\u001b[0m\u001b[0;32m    252\u001b[0m                 \u001b[0mshow_inline_matplotlib_plots\u001b[0m\u001b[1;33m(\u001b[0m\u001b[1;33m)\u001b[0m\u001b[1;33m\u001b[0m\u001b[1;33m\u001b[0m\u001b[0m\n\u001b[0;32m    253\u001b[0m                 \u001b[1;32mif\u001b[0m \u001b[0mself\u001b[0m\u001b[1;33m.\u001b[0m\u001b[0mauto_display\u001b[0m \u001b[1;32mand\u001b[0m \u001b[0mself\u001b[0m\u001b[1;33m.\u001b[0m\u001b[0mresult\u001b[0m \u001b[1;32mis\u001b[0m \u001b[1;32mnot\u001b[0m \u001b[1;32mNone\u001b[0m\u001b[1;33m:\u001b[0m\u001b[1;33m\u001b[0m\u001b[1;33m\u001b[0m\u001b[0m\n",
          "\u001b[1;32m<ipython-input-66-332860a8cc51>\u001b[0m in \u001b[0;36mupdate\u001b[1;34m()\u001b[0m\n\u001b[0;32m      2\u001b[0m \u001b[1;32mdef\u001b[0m \u001b[0mupdate\u001b[0m\u001b[1;33m(\u001b[0m\u001b[1;33m)\u001b[0m\u001b[1;33m:\u001b[0m\u001b[1;33m\u001b[0m\u001b[1;33m\u001b[0m\u001b[0m\n\u001b[0;32m      3\u001b[0m     \u001b[0mcr\u001b[0m \u001b[1;33m=\u001b[0m \u001b[0ms_cr\u001b[0m\u001b[1;33m.\u001b[0m\u001b[0mval\u001b[0m\u001b[1;33m\u001b[0m\u001b[1;33m\u001b[0m\u001b[0m\n\u001b[1;32m----> 4\u001b[1;33m     \u001b[0mp_break\u001b[0m\u001b[1;33m.\u001b[0m\u001b[0mset_ydata\u001b[0m\u001b[1;33m(\u001b[0m\u001b[0mcal_avg_cdmg_mul_break\u001b[0m\u001b[1;33m(\u001b[0m\u001b[0mcr\u001b[0m\u001b[1;33m)\u001b[0m\u001b[1;33m)\u001b[0m\u001b[1;33m\u001b[0m\u001b[1;33m\u001b[0m\u001b[0m\n\u001b[0m\u001b[0;32m      5\u001b[0m     \u001b[0mp_lion\u001b[0m\u001b[1;33m.\u001b[0m\u001b[0mset_ydata\u001b[0m\u001b[1;33m(\u001b[0m\u001b[0mcal_avg_cdmg_mul_lion\u001b[0m\u001b[1;33m(\u001b[0m\u001b[0mcr\u001b[0m\u001b[1;33m)\u001b[0m\u001b[1;33m)\u001b[0m\u001b[1;33m\u001b[0m\u001b[1;33m\u001b[0m\u001b[0m\n\u001b[0;32m      6\u001b[0m     \u001b[0mfig\u001b[0m\u001b[1;33m.\u001b[0m\u001b[0mcanvas\u001b[0m\u001b[1;33m.\u001b[0m\u001b[0mdraw_idle\u001b[0m\u001b[1;33m(\u001b[0m\u001b[1;33m)\u001b[0m\u001b[1;33m\u001b[0m\u001b[1;33m\u001b[0m\u001b[0m\n",
          "\u001b[1;31mAttributeError\u001b[0m: 'list' object has no attribute 'set_ydata'"
         ]
        }
       ]
      }
     },
     "7216e27220104561aceceddd8f5553f3": {
      "model_module": "@jupyter-widgets/controls",
      "model_module_version": "1.4.0",
      "model_name": "SliderStyleModel",
      "state": {
       "description_width": ""
      }
     },
     "73dd41e6f2fe4d87b279af042d03d0aa": {
      "model_module": "@jupyter-widgets/base",
      "model_module_version": "1.1.0",
      "model_name": "LayoutModel",
      "state": {}
     },
     "76838d10046e4b3f94cac001df8196a2": {
      "model_module": "@jupyter-widgets/controls",
      "model_module_version": "1.4.0",
      "model_name": "VBoxModel",
      "state": {
       "_dom_classes": [
        "widget-interact"
       ],
       "children": [
        "IPY_MODEL_c8cae85736e846e8a204eafb4afe5bee",
        "IPY_MODEL_69815bd184f14610b47b4c639dca2876"
       ],
       "layout": "IPY_MODEL_d86c891153554a909fa625e4f2857b40"
      }
     },
     "76bce7c94a884379b91ab71a99f03f2a": {
      "model_module": "@jupyter-widgets/output",
      "model_module_version": "1.0.0",
      "model_name": "OutputModel",
      "state": {
       "layout": "IPY_MODEL_60bd82087ac44b50b77cea659ac67592"
      }
     },
     "771a7412c4b542bc9c4830359a234037": {
      "model_module": "@jupyter-widgets/base",
      "model_module_version": "1.1.0",
      "model_name": "LayoutModel",
      "state": {}
     },
     "7877cfb0e9e9455ab37e92b16aae36e4": {
      "model_module": "@jupyter-widgets/controls",
      "model_module_version": "1.4.0",
      "model_name": "IntSliderModel",
      "state": {
       "description": "Crit Rate %:",
       "layout": "IPY_MODEL_bc401624b701478dbcbfc044c93ed419",
       "style": "IPY_MODEL_05ad3aef105d4a9997c53c3ce8a233da",
       "value": 30
      }
     },
     "78fd013520ca42fb9b5cf29f0c31e76c": {
      "model_module": "@jupyter-widgets/controls",
      "model_module_version": "1.4.0",
      "model_name": "SliderStyleModel",
      "state": {
       "description_width": ""
      }
     },
     "790cb586d0d2431ead53406aeea1fd3b": {
      "model_module": "@jupyter-widgets/controls",
      "model_module_version": "1.4.0",
      "model_name": "VBoxModel",
      "state": {
       "_dom_classes": [
        "widget-interact"
       ],
       "children": [
        "IPY_MODEL_e0f8210be5ff4069a7e3e5c8179687e1"
       ],
       "layout": "IPY_MODEL_d3ec658e3a82458096a285320d98670e"
      }
     },
     "792899ce70d44499a08bf4953d0997bb": {
      "model_module": "@jupyter-widgets/controls",
      "model_module_version": "1.4.0",
      "model_name": "SliderStyleModel",
      "state": {
       "description_width": ""
      }
     },
     "7b5f06c7668f4170a1104b5f0bd07d30": {
      "model_module": "@jupyter-widgets/base",
      "model_module_version": "1.1.0",
      "model_name": "LayoutModel",
      "state": {}
     },
     "7b7bb510af324e10b6f4a8d421e03ef0": {
      "model_module": "@jupyter-widgets/base",
      "model_module_version": "1.1.0",
      "model_name": "LayoutModel",
      "state": {}
     },
     "7f36f657361a4613b93d0d5fa8b0d43e": {
      "model_module": "@jupyter-widgets/controls",
      "model_module_version": "1.4.0",
      "model_name": "IntSliderModel",
      "state": {
       "description": "Crit Rate %:",
       "layout": "IPY_MODEL_8306815380cd4418a7048664ac4b3d63",
       "style": "IPY_MODEL_287a9261a7ff4908b79df212a71669b6",
       "value": 30
      }
     },
     "80625ed3f5184e45aca86bf64eb48713": {
      "model_module": "@jupyter-widgets/controls",
      "model_module_version": "1.4.0",
      "model_name": "SliderStyleModel",
      "state": {
       "description_width": ""
      }
     },
     "8115ee3a86fa4dffb0fb6efde20a2a08": {
      "model_module": "@jupyter-widgets/output",
      "model_module_version": "1.0.0",
      "model_name": "OutputModel",
      "state": {
       "layout": "IPY_MODEL_05a78f3e542b49e3b144eb1fd4064e53",
       "outputs": [
        {
         "ename": "TypeError",
         "evalue": "set_position() takes 2 positional arguments but 3 were given",
         "output_type": "error",
         "traceback": [
          "\u001b[1;31m---------------------------------------------------------------------------\u001b[0m",
          "\u001b[1;31mTypeError\u001b[0m                                 Traceback (most recent call last)",
          "\u001b[1;32mD:\\Python\\Anaconda3\\envs\\py3.7\\lib\\site-packages\\ipywidgets\\widgets\\interaction.py\u001b[0m in \u001b[0;36mupdate\u001b[1;34m(self, *args)\u001b[0m\n\u001b[0;32m    249\u001b[0m                     \u001b[0mvalue\u001b[0m \u001b[1;33m=\u001b[0m \u001b[0mwidget\u001b[0m\u001b[1;33m.\u001b[0m\u001b[0mget_interact_value\u001b[0m\u001b[1;33m(\u001b[0m\u001b[1;33m)\u001b[0m\u001b[1;33m\u001b[0m\u001b[1;33m\u001b[0m\u001b[0m\n\u001b[0;32m    250\u001b[0m                     \u001b[0mself\u001b[0m\u001b[1;33m.\u001b[0m\u001b[0mkwargs\u001b[0m\u001b[1;33m[\u001b[0m\u001b[0mwidget\u001b[0m\u001b[1;33m.\u001b[0m\u001b[0m_kwarg\u001b[0m\u001b[1;33m]\u001b[0m \u001b[1;33m=\u001b[0m \u001b[0mvalue\u001b[0m\u001b[1;33m\u001b[0m\u001b[1;33m\u001b[0m\u001b[0m\n\u001b[1;32m--> 251\u001b[1;33m                 \u001b[0mself\u001b[0m\u001b[1;33m.\u001b[0m\u001b[0mresult\u001b[0m \u001b[1;33m=\u001b[0m \u001b[0mself\u001b[0m\u001b[1;33m.\u001b[0m\u001b[0mf\u001b[0m\u001b[1;33m(\u001b[0m\u001b[1;33m**\u001b[0m\u001b[0mself\u001b[0m\u001b[1;33m.\u001b[0m\u001b[0mkwargs\u001b[0m\u001b[1;33m)\u001b[0m\u001b[1;33m\u001b[0m\u001b[1;33m\u001b[0m\u001b[0m\n\u001b[0m\u001b[0;32m    252\u001b[0m                 \u001b[0mshow_inline_matplotlib_plots\u001b[0m\u001b[1;33m(\u001b[0m\u001b[1;33m)\u001b[0m\u001b[1;33m\u001b[0m\u001b[1;33m\u001b[0m\u001b[0m\n\u001b[0;32m    253\u001b[0m                 \u001b[1;32mif\u001b[0m \u001b[0mself\u001b[0m\u001b[1;33m.\u001b[0m\u001b[0mauto_display\u001b[0m \u001b[1;32mand\u001b[0m \u001b[0mself\u001b[0m\u001b[1;33m.\u001b[0m\u001b[0mresult\u001b[0m \u001b[1;32mis\u001b[0m \u001b[1;32mnot\u001b[0m \u001b[1;32mNone\u001b[0m\u001b[1;33m:\u001b[0m\u001b[1;33m\u001b[0m\u001b[1;33m\u001b[0m\u001b[0m\n",
          "\u001b[1;32m<ipython-input-110-3418d63e666c>\u001b[0m in \u001b[0;36mupdate\u001b[1;34m(cr)\u001b[0m\n\u001b[0;32m     31\u001b[0m     \u001b[0mp_lion\u001b[0m\u001b[1;33m.\u001b[0m\u001b[0mset_ydata\u001b[0m\u001b[1;33m(\u001b[0m\u001b[0mavg_cdmg_mul_lion\u001b[0m\u001b[1;33m)\u001b[0m\u001b[1;33m\u001b[0m\u001b[1;33m\u001b[0m\u001b[0m\n\u001b[0;32m     32\u001b[0m     \u001b[0mp_intersect\u001b[0m\u001b[1;33m.\u001b[0m\u001b[0mset_data\u001b[0m\u001b[1;33m(\u001b[0m\u001b[0mdmg_buff\u001b[0m\u001b[1;33m[\u001b[0m\u001b[0midx\u001b[0m\u001b[1;33m]\u001b[0m\u001b[1;33m,\u001b[0m \u001b[0mavg_cdmg_mul_lion\u001b[0m\u001b[1;33m[\u001b[0m\u001b[0midx\u001b[0m\u001b[1;33m]\u001b[0m\u001b[1;33m)\u001b[0m\u001b[1;33m\u001b[0m\u001b[1;33m\u001b[0m\u001b[0m\n\u001b[1;32m---> 33\u001b[1;33m     \u001b[0mtext_intersect\u001b[0m\u001b[1;33m.\u001b[0m\u001b[0mset_position\u001b[0m\u001b[1;33m(\u001b[0m\u001b[0mdmg_buff\u001b[0m\u001b[1;33m[\u001b[0m\u001b[0midx\u001b[0m\u001b[1;33m]\u001b[0m\u001b[1;33m[\u001b[0m\u001b[1;36m0\u001b[0m\u001b[1;33m]\u001b[0m\u001b[1;33m,\u001b[0m \u001b[0mavg_cdmg_mul_lion\u001b[0m\u001b[1;33m[\u001b[0m\u001b[0midx\u001b[0m\u001b[1;33m]\u001b[0m\u001b[1;33m[\u001b[0m\u001b[1;36m0\u001b[0m\u001b[1;33m]\u001b[0m\u001b[1;33m+\u001b[0m\u001b[1;36m0.1\u001b[0m\u001b[1;33m)\u001b[0m\u001b[1;33m\u001b[0m\u001b[1;33m\u001b[0m\u001b[0m\n\u001b[0m\u001b[0;32m     34\u001b[0m     \u001b[0mtext_intersect\u001b[0m\u001b[1;33m.\u001b[0m\u001b[0mset_text\u001b[0m\u001b[1;33m(\u001b[0m\u001b[1;34m'{}'\u001b[0m\u001b[1;33m.\u001b[0m\u001b[0mformat\u001b[0m\u001b[1;33m(\u001b[0m\u001b[0mdmg_buff\u001b[0m\u001b[1;33m[\u001b[0m\u001b[0midx\u001b[0m\u001b[1;33m]\u001b[0m\u001b[1;33m[\u001b[0m\u001b[1;36m0\u001b[0m\u001b[1;33m]\u001b[0m\u001b[1;33m)\u001b[0m\u001b[1;33m)\u001b[0m\u001b[1;33m\u001b[0m\u001b[1;33m\u001b[0m\u001b[0m\n\u001b[0;32m     35\u001b[0m \u001b[1;33m\u001b[0m\u001b[0m\n",
          "\u001b[1;31mTypeError\u001b[0m: set_position() takes 2 positional arguments but 3 were given"
         ]
        }
       ]
      }
     },
     "8306815380cd4418a7048664ac4b3d63": {
      "model_module": "@jupyter-widgets/base",
      "model_module_version": "1.1.0",
      "model_name": "LayoutModel",
      "state": {}
     },
     "8808bebbf100468aa23d47fafca63c1a": {
      "model_module": "@jupyter-widgets/controls",
      "model_module_version": "1.4.0",
      "model_name": "IntSliderModel",
      "state": {
       "description": "Crit Rate %:",
       "layout": "IPY_MODEL_20850b330d5a45afac6ac972fc67f084",
       "style": "IPY_MODEL_c6ee61001d5840228641b5ae47d3f47f",
       "value": 30
      }
     },
     "8849c98ade9d4f2daa46bc58965743c9": {
      "model_module": "@jupyter-widgets/controls",
      "model_module_version": "1.4.0",
      "model_name": "IntSliderModel",
      "state": {
       "description": "Crit Rate %:",
       "layout": "IPY_MODEL_29bf30aed40649f297b98eb5a941db58",
       "style": "IPY_MODEL_792899ce70d44499a08bf4953d0997bb",
       "value": 30
      }
     },
     "88d9f0ea418140f5aeb26ab53f4f00f0": {
      "model_module": "@jupyter-widgets/base",
      "model_module_version": "1.1.0",
      "model_name": "LayoutModel",
      "state": {}
     },
     "89d318dbf6b547348c1c11bc8307cee8": {
      "model_module": "@jupyter-widgets/base",
      "model_module_version": "1.1.0",
      "model_name": "LayoutModel",
      "state": {}
     },
     "8ad0868c377e44329aca5d654b95c59e": {
      "model_module": "@jupyter-widgets/base",
      "model_module_version": "1.1.0",
      "model_name": "LayoutModel",
      "state": {}
     },
     "8af3e2e8e5e14e6e9d56eb77dfc60f06": {
      "model_module": "@jupyter-widgets/controls",
      "model_module_version": "1.4.0",
      "model_name": "SliderStyleModel",
      "state": {
       "description_width": ""
      }
     },
     "8aff951a337b4fd28f16bb9719374dd4": {
      "model_module": "@jupyter-widgets/base",
      "model_module_version": "1.1.0",
      "model_name": "LayoutModel",
      "state": {}
     },
     "8b90629998da4a64ae393e68d11e9e40": {
      "model_module": "@jupyter-widgets/output",
      "model_module_version": "1.0.0",
      "model_name": "OutputModel",
      "state": {
       "layout": "IPY_MODEL_4a0d5d70b0164d089e205750ee99db67"
      }
     },
     "8c3a33a3c14349eab0d2cc122fb3c599": {
      "model_module": "@jupyter-widgets/base",
      "model_module_version": "1.1.0",
      "model_name": "LayoutModel",
      "state": {}
     },
     "8ca084b486c54cb89b099a1006343e0b": {
      "model_module": "@jupyter-widgets/base",
      "model_module_version": "1.1.0",
      "model_name": "LayoutModel",
      "state": {}
     },
     "8f7637edc1c04b8291665a30ce0ec925": {
      "model_module": "@jupyter-widgets/base",
      "model_module_version": "1.1.0",
      "model_name": "LayoutModel",
      "state": {}
     },
     "8faae386a108431db50ef521bdcb78a0": {
      "model_module": "@jupyter-widgets/controls",
      "model_module_version": "1.4.0",
      "model_name": "SliderStyleModel",
      "state": {
       "description_width": ""
      }
     },
     "92182a2ad4504a7294aced08ec6eaff4": {
      "model_module": "@jupyter-widgets/controls",
      "model_module_version": "1.4.0",
      "model_name": "SliderStyleModel",
      "state": {
       "description_width": ""
      }
     },
     "938f706fe1b6452da90eb164e6e55f44": {
      "model_module": "@jupyter-widgets/base",
      "model_module_version": "1.1.0",
      "model_name": "LayoutModel",
      "state": {}
     },
     "93f0cd1e39c14d4783092d10e9d6a56e": {
      "model_module": "@jupyter-widgets/base",
      "model_module_version": "1.1.0",
      "model_name": "LayoutModel",
      "state": {}
     },
     "942bc1812ca745cb921d60ddd4b6a06e": {
      "model_module": "@jupyter-widgets/output",
      "model_module_version": "1.0.0",
      "model_name": "OutputModel",
      "state": {
       "layout": "IPY_MODEL_bfe684b5e7294ad281b586d9e679b492",
       "outputs": [
        {
         "ename": "AttributeError",
         "evalue": "'Line2D' object has no attribute 'text'",
         "output_type": "error",
         "traceback": [
          "\u001b[1;31m---------------------------------------------------------------------------\u001b[0m",
          "\u001b[1;31mAttributeError\u001b[0m                            Traceback (most recent call last)",
          "\u001b[1;32mD:\\Python\\Anaconda3\\envs\\py3.7\\lib\\site-packages\\ipywidgets\\widgets\\interaction.py\u001b[0m in \u001b[0;36mupdate\u001b[1;34m(self, *args)\u001b[0m\n\u001b[0;32m    249\u001b[0m                     \u001b[0mvalue\u001b[0m \u001b[1;33m=\u001b[0m \u001b[0mwidget\u001b[0m\u001b[1;33m.\u001b[0m\u001b[0mget_interact_value\u001b[0m\u001b[1;33m(\u001b[0m\u001b[1;33m)\u001b[0m\u001b[1;33m\u001b[0m\u001b[1;33m\u001b[0m\u001b[0m\n\u001b[0;32m    250\u001b[0m                     \u001b[0mself\u001b[0m\u001b[1;33m.\u001b[0m\u001b[0mkwargs\u001b[0m\u001b[1;33m[\u001b[0m\u001b[0mwidget\u001b[0m\u001b[1;33m.\u001b[0m\u001b[0m_kwarg\u001b[0m\u001b[1;33m]\u001b[0m \u001b[1;33m=\u001b[0m \u001b[0mvalue\u001b[0m\u001b[1;33m\u001b[0m\u001b[1;33m\u001b[0m\u001b[0m\n\u001b[1;32m--> 251\u001b[1;33m                 \u001b[0mself\u001b[0m\u001b[1;33m.\u001b[0m\u001b[0mresult\u001b[0m \u001b[1;33m=\u001b[0m \u001b[0mself\u001b[0m\u001b[1;33m.\u001b[0m\u001b[0mf\u001b[0m\u001b[1;33m(\u001b[0m\u001b[1;33m**\u001b[0m\u001b[0mself\u001b[0m\u001b[1;33m.\u001b[0m\u001b[0mkwargs\u001b[0m\u001b[1;33m)\u001b[0m\u001b[1;33m\u001b[0m\u001b[1;33m\u001b[0m\u001b[0m\n\u001b[0m\u001b[0;32m    252\u001b[0m                 \u001b[0mshow_inline_matplotlib_plots\u001b[0m\u001b[1;33m(\u001b[0m\u001b[1;33m)\u001b[0m\u001b[1;33m\u001b[0m\u001b[1;33m\u001b[0m\u001b[0m\n\u001b[0;32m    253\u001b[0m                 \u001b[1;32mif\u001b[0m \u001b[0mself\u001b[0m\u001b[1;33m.\u001b[0m\u001b[0mauto_display\u001b[0m \u001b[1;32mand\u001b[0m \u001b[0mself\u001b[0m\u001b[1;33m.\u001b[0m\u001b[0mresult\u001b[0m \u001b[1;32mis\u001b[0m \u001b[1;32mnot\u001b[0m \u001b[1;32mNone\u001b[0m\u001b[1;33m:\u001b[0m\u001b[1;33m\u001b[0m\u001b[1;33m\u001b[0m\u001b[0m\n",
          "\u001b[1;32m<ipython-input-106-cfd86f6162db>\u001b[0m in \u001b[0;36mupdate\u001b[1;34m(cr)\u001b[0m\n\u001b[0;32m     30\u001b[0m     \u001b[0mp_lion\u001b[0m\u001b[1;33m.\u001b[0m\u001b[0mset_ydata\u001b[0m\u001b[1;33m(\u001b[0m\u001b[0mavg_cdmg_mul_lion\u001b[0m\u001b[1;33m)\u001b[0m\u001b[1;33m\u001b[0m\u001b[1;33m\u001b[0m\u001b[0m\n\u001b[0;32m     31\u001b[0m     \u001b[0mp_intersect\u001b[0m\u001b[1;33m.\u001b[0m\u001b[0mset_data\u001b[0m\u001b[1;33m(\u001b[0m\u001b[0mdmg_buff\u001b[0m\u001b[1;33m[\u001b[0m\u001b[0midx\u001b[0m\u001b[1;33m]\u001b[0m\u001b[1;33m,\u001b[0m \u001b[0mavg_cdmg_mul_lion\u001b[0m\u001b[1;33m[\u001b[0m\u001b[0midx\u001b[0m\u001b[1;33m]\u001b[0m\u001b[1;33m)\u001b[0m\u001b[1;33m\u001b[0m\u001b[1;33m\u001b[0m\u001b[0m\n\u001b[1;32m---> 32\u001b[1;33m     \u001b[0mp_intersect\u001b[0m\u001b[1;33m.\u001b[0m\u001b[0mtext\u001b[0m\u001b[1;33m(\u001b[0m\u001b[1;34m''\u001b[0m\u001b[1;33m)\u001b[0m\u001b[1;33m\u001b[0m\u001b[1;33m\u001b[0m\u001b[0m\n\u001b[0m\u001b[0;32m     33\u001b[0m     \u001b[1;32mfor\u001b[0m \u001b[0mi\u001b[0m\u001b[1;33m,\u001b[0m \u001b[0mj\u001b[0m \u001b[1;32min\u001b[0m \u001b[0mzip\u001b[0m\u001b[1;33m(\u001b[0m\u001b[0mdmg_buff\u001b[0m\u001b[1;33m[\u001b[0m\u001b[0midx\u001b[0m\u001b[1;33m]\u001b[0m\u001b[1;33m,\u001b[0m \u001b[0mavg_cdmg_mul_lion\u001b[0m\u001b[1;33m[\u001b[0m\u001b[0midx\u001b[0m\u001b[1;33m]\u001b[0m\u001b[1;33m)\u001b[0m\u001b[1;33m:\u001b[0m\u001b[1;33m\u001b[0m\u001b[1;33m\u001b[0m\u001b[0m\n\u001b[0;32m     34\u001b[0m         \u001b[0mplt\u001b[0m\u001b[1;33m.\u001b[0m\u001b[0mtext\u001b[0m\u001b[1;33m(\u001b[0m\u001b[0mi\u001b[0m\u001b[1;33m,\u001b[0m \u001b[0mj\u001b[0m\u001b[1;33m+\u001b[0m\u001b[1;36m0.5\u001b[0m\u001b[1;33m,\u001b[0m \u001b[1;34m'({}, {})'\u001b[0m\u001b[1;33m.\u001b[0m\u001b[0mformat\u001b[0m\u001b[1;33m(\u001b[0m\u001b[0mi\u001b[0m\u001b[1;33m,\u001b[0m \u001b[0mj\u001b[0m\u001b[1;33m)\u001b[0m\u001b[1;33m)\u001b[0m\u001b[1;33m\u001b[0m\u001b[1;33m\u001b[0m\u001b[0m\n",
          "\u001b[1;31mAttributeError\u001b[0m: 'Line2D' object has no attribute 'text'"
         ]
        }
       ]
      }
     },
     "943c587d68aa49829e3c3d153ebfc480": {
      "model_module": "@jupyter-widgets/base",
      "model_module_version": "1.1.0",
      "model_name": "LayoutModel",
      "state": {}
     },
     "951a7169461144308df331d1337f6aa5": {
      "model_module": "@jupyter-widgets/base",
      "model_module_version": "1.1.0",
      "model_name": "LayoutModel",
      "state": {}
     },
     "953926f7c0224c809a2e270878a24727": {
      "model_module": "@jupyter-widgets/base",
      "model_module_version": "1.1.0",
      "model_name": "LayoutModel",
      "state": {}
     },
     "970b824857e94af0966533acd5cc8cff": {
      "model_module": "@jupyter-widgets/base",
      "model_module_version": "1.1.0",
      "model_name": "LayoutModel",
      "state": {}
     },
     "977fec2c066e4d8eab0434c70851a7f7": {
      "model_module": "@jupyter-widgets/output",
      "model_module_version": "1.0.0",
      "model_name": "OutputModel",
      "state": {
       "layout": "IPY_MODEL_88d9f0ea418140f5aeb26ab53f4f00f0"
      }
     },
     "99b9e717a14042479493309dc6c2a665": {
      "model_module": "@jupyter-widgets/output",
      "model_module_version": "1.0.0",
      "model_name": "OutputModel",
      "state": {
       "layout": "IPY_MODEL_1121f10ecc3e475ebb9f112dcf1fac14"
      }
     },
     "9a43465973754ae4b8941ed6cb40aeda": {
      "model_module": "@jupyter-widgets/controls",
      "model_module_version": "1.4.0",
      "model_name": "VBoxModel",
      "state": {
       "_dom_classes": [
        "widget-interact"
       ],
       "children": [
        "IPY_MODEL_cf012a532c9f41e1a33ac969fde7099e",
        "IPY_MODEL_3f8edb585a1546f2947a29003884e7e3"
       ],
       "layout": "IPY_MODEL_661a67a74c344fa38bde80f3424e1bd1"
      }
     },
     "9c17cab16758406db6f150d58162b3ae": {
      "model_module": "@jupyter-widgets/base",
      "model_module_version": "1.1.0",
      "model_name": "LayoutModel",
      "state": {}
     },
     "a0963b8f150d4c049dd6e57251b75904": {
      "model_module": "@jupyter-widgets/base",
      "model_module_version": "1.1.0",
      "model_name": "LayoutModel",
      "state": {}
     },
     "a16624a320bf451d9b8fbc34b428b29c": {
      "model_module": "@jupyter-widgets/base",
      "model_module_version": "1.1.0",
      "model_name": "LayoutModel",
      "state": {}
     },
     "a195237ac88f40a9a8ee23235740e53a": {
      "model_module": "@jupyter-widgets/base",
      "model_module_version": "1.1.0",
      "model_name": "LayoutModel",
      "state": {}
     },
     "a66c881c75bb44b89a7dae30e0710afe": {
      "model_module": "@jupyter-widgets/controls",
      "model_module_version": "1.4.0",
      "model_name": "SliderStyleModel",
      "state": {
       "description_width": ""
      }
     },
     "a9eebe500a134b7a99c858e625d1b5c4": {
      "model_module": "@jupyter-widgets/base",
      "model_module_version": "1.1.0",
      "model_name": "LayoutModel",
      "state": {}
     },
     "abe4ece15592459699fcdaeab97daf6c": {
      "model_module": "@jupyter-widgets/base",
      "model_module_version": "1.1.0",
      "model_name": "LayoutModel",
      "state": {}
     },
     "adf090a2bec4413cb2cf95302eeba66c": {
      "model_module": "@jupyter-widgets/controls",
      "model_module_version": "1.4.0",
      "model_name": "VBoxModel",
      "state": {
       "_dom_classes": [
        "widget-interact"
       ],
       "children": [
        "IPY_MODEL_8849c98ade9d4f2daa46bc58965743c9",
        "IPY_MODEL_4938e33564b3481d92b3fe7d625ed9cd"
       ],
       "layout": "IPY_MODEL_953926f7c0224c809a2e270878a24727"
      }
     },
     "afddced3175248c7827835acf55888bd": {
      "model_module": "@jupyter-widgets/controls",
      "model_module_version": "1.4.0",
      "model_name": "VBoxModel",
      "state": {
       "_dom_classes": [
        "widget-interact"
       ],
       "children": [
        "IPY_MODEL_089fbe2c285f48648d1495c238e83bdf"
       ],
       "layout": "IPY_MODEL_6c8ceff1cb5f464f9392dca60028b91f"
      }
     },
     "b04c9ba2e89547ebb7330375b39f2e5b": {
      "model_module": "@jupyter-widgets/controls",
      "model_module_version": "1.4.0",
      "model_name": "VBoxModel",
      "state": {
       "_dom_classes": [
        "widget-interact"
       ],
       "children": [
        "IPY_MODEL_7f36f657361a4613b93d0d5fa8b0d43e",
        "IPY_MODEL_fd91d58257e6412ebe15a3e7d7c19d0f"
       ],
       "layout": "IPY_MODEL_d0dedbe8a14d46cb8b790554002e47e9"
      }
     },
     "b1e33c5ad6e04057a0aba78d8d52d28f": {
      "model_module": "@jupyter-widgets/base",
      "model_module_version": "1.1.0",
      "model_name": "LayoutModel",
      "state": {}
     },
     "b358ce3eb9cf408b82065ca31ed2b4d0": {
      "model_module": "@jupyter-widgets/controls",
      "model_module_version": "1.4.0",
      "model_name": "VBoxModel",
      "state": {
       "_dom_classes": [
        "widget-interact"
       ],
       "children": [
        "IPY_MODEL_355ed342d6c7420e820dbb0ec5a6e35d",
        "IPY_MODEL_52b5b064053241a9a2c74e2d129efe9d"
       ],
       "layout": "IPY_MODEL_616da85ccca74762a4a5b279b659675c"
      }
     },
     "b4ff5897a3104872b9173a66590a6d36": {
      "model_module": "@jupyter-widgets/base",
      "model_module_version": "1.1.0",
      "model_name": "LayoutModel",
      "state": {}
     },
     "b5e9458a17094572b61bbfabc0747f72": {
      "model_module": "@jupyter-widgets/base",
      "model_module_version": "1.1.0",
      "model_name": "LayoutModel",
      "state": {}
     },
     "b748ead86c5345d4824b80f11589df02": {
      "model_module": "@jupyter-widgets/output",
      "model_module_version": "1.0.0",
      "model_name": "OutputModel",
      "state": {
       "layout": "IPY_MODEL_1618faf6d6584fd7a59ebbca73353f74"
      }
     },
     "b7e44ea041b34869bede6ec9e94e35d9": {
      "model_module": "@jupyter-widgets/controls",
      "model_module_version": "1.4.0",
      "model_name": "VBoxModel",
      "state": {
       "_dom_classes": [
        "widget-interact"
       ],
       "children": [
        "IPY_MODEL_7877cfb0e9e9455ab37e92b16aae36e4",
        "IPY_MODEL_b748ead86c5345d4824b80f11589df02"
       ],
       "layout": "IPY_MODEL_4f22e7d5c08041158bae63fa29ca3744"
      }
     },
     "b87d10370f6442609e2f0fab84a45634": {
      "model_module": "@jupyter-widgets/base",
      "model_module_version": "1.1.0",
      "model_name": "LayoutModel",
      "state": {}
     },
     "b9773489a6e34874b3b8ebbb48e4b8f8": {
      "model_module": "@jupyter-widgets/output",
      "model_module_version": "1.0.0",
      "model_name": "OutputModel",
      "state": {
       "layout": "IPY_MODEL_680e65a088c043a9a9ce3b31ccfbfbcf"
      }
     },
     "bc401624b701478dbcbfc044c93ed419": {
      "model_module": "@jupyter-widgets/base",
      "model_module_version": "1.1.0",
      "model_name": "LayoutModel",
      "state": {}
     },
     "bcca3ce5aaa84c19a5e087ecc490a487": {
      "model_module": "@jupyter-widgets/controls",
      "model_module_version": "1.4.0",
      "model_name": "IntSliderModel",
      "state": {
       "description": "Crit Rate % without helmet:",
       "layout": "IPY_MODEL_e76f93d5856d4147b28f00e64b77fd14",
       "style": "IPY_MODEL_d16075a2278042e7816444bd2d18c22c",
       "value": 30
      }
     },
     "bf15abdaff374a52b4962c70e17bd6d3": {
      "model_module": "@jupyter-widgets/base",
      "model_module_version": "1.1.0",
      "model_name": "LayoutModel",
      "state": {}
     },
     "bfe684b5e7294ad281b586d9e679b492": {
      "model_module": "@jupyter-widgets/base",
      "model_module_version": "1.1.0",
      "model_name": "LayoutModel",
      "state": {}
     },
     "c0ca4e618d074778a3ba8596b1d5bfe6": {
      "model_module": "@jupyter-widgets/output",
      "model_module_version": "1.0.0",
      "model_name": "OutputModel",
      "state": {
       "layout": "IPY_MODEL_abe4ece15592459699fcdaeab97daf6c",
       "outputs": [
        {
         "ename": "AttributeError",
         "evalue": "'list' object has no attribute 'set_data'",
         "output_type": "error",
         "traceback": [
          "\u001b[1;31m---------------------------------------------------------------------------\u001b[0m",
          "\u001b[1;31mAttributeError\u001b[0m                            Traceback (most recent call last)",
          "\u001b[1;32mD:\\Python\\Anaconda3\\envs\\py3.7\\lib\\site-packages\\ipywidgets\\widgets\\interaction.py\u001b[0m in \u001b[0;36mupdate\u001b[1;34m(self, *args)\u001b[0m\n\u001b[0;32m    249\u001b[0m                     \u001b[0mvalue\u001b[0m \u001b[1;33m=\u001b[0m \u001b[0mwidget\u001b[0m\u001b[1;33m.\u001b[0m\u001b[0mget_interact_value\u001b[0m\u001b[1;33m(\u001b[0m\u001b[1;33m)\u001b[0m\u001b[1;33m\u001b[0m\u001b[1;33m\u001b[0m\u001b[0m\n\u001b[0;32m    250\u001b[0m                     \u001b[0mself\u001b[0m\u001b[1;33m.\u001b[0m\u001b[0mkwargs\u001b[0m\u001b[1;33m[\u001b[0m\u001b[0mwidget\u001b[0m\u001b[1;33m.\u001b[0m\u001b[0m_kwarg\u001b[0m\u001b[1;33m]\u001b[0m \u001b[1;33m=\u001b[0m \u001b[0mvalue\u001b[0m\u001b[1;33m\u001b[0m\u001b[1;33m\u001b[0m\u001b[0m\n\u001b[1;32m--> 251\u001b[1;33m                 \u001b[0mself\u001b[0m\u001b[1;33m.\u001b[0m\u001b[0mresult\u001b[0m \u001b[1;33m=\u001b[0m \u001b[0mself\u001b[0m\u001b[1;33m.\u001b[0m\u001b[0mf\u001b[0m\u001b[1;33m(\u001b[0m\u001b[1;33m**\u001b[0m\u001b[0mself\u001b[0m\u001b[1;33m.\u001b[0m\u001b[0mkwargs\u001b[0m\u001b[1;33m)\u001b[0m\u001b[1;33m\u001b[0m\u001b[1;33m\u001b[0m\u001b[0m\n\u001b[0m\u001b[0;32m    252\u001b[0m                 \u001b[0mshow_inline_matplotlib_plots\u001b[0m\u001b[1;33m(\u001b[0m\u001b[1;33m)\u001b[0m\u001b[1;33m\u001b[0m\u001b[1;33m\u001b[0m\u001b[0m\n\u001b[0;32m    253\u001b[0m                 \u001b[1;32mif\u001b[0m \u001b[0mself\u001b[0m\u001b[1;33m.\u001b[0m\u001b[0mauto_display\u001b[0m \u001b[1;32mand\u001b[0m \u001b[0mself\u001b[0m\u001b[1;33m.\u001b[0m\u001b[0mresult\u001b[0m \u001b[1;32mis\u001b[0m \u001b[1;32mnot\u001b[0m \u001b[1;32mNone\u001b[0m\u001b[1;33m:\u001b[0m\u001b[1;33m\u001b[0m\u001b[1;33m\u001b[0m\u001b[0m\n",
          "\u001b[1;32m<ipython-input-100-41ae3910cb2c>\u001b[0m in \u001b[0;36mupdate\u001b[1;34m(cr)\u001b[0m\n\u001b[0;32m     29\u001b[0m     \u001b[0mp_break\u001b[0m\u001b[1;33m.\u001b[0m\u001b[0mset_ydata\u001b[0m\u001b[1;33m(\u001b[0m\u001b[0mavg_cdmg_mul_break\u001b[0m\u001b[1;33m)\u001b[0m\u001b[1;33m\u001b[0m\u001b[1;33m\u001b[0m\u001b[0m\n\u001b[0;32m     30\u001b[0m     \u001b[0mp_lion\u001b[0m\u001b[1;33m.\u001b[0m\u001b[0mset_ydata\u001b[0m\u001b[1;33m(\u001b[0m\u001b[0mavg_cdmg_mul_lion\u001b[0m\u001b[1;33m)\u001b[0m\u001b[1;33m\u001b[0m\u001b[1;33m\u001b[0m\u001b[0m\n\u001b[1;32m---> 31\u001b[1;33m     \u001b[0mp_intersect\u001b[0m\u001b[1;33m.\u001b[0m\u001b[0mset_data\u001b[0m\u001b[1;33m(\u001b[0m\u001b[0mdmg_buff\u001b[0m\u001b[1;33m[\u001b[0m\u001b[0midx\u001b[0m\u001b[1;33m]\u001b[0m\u001b[1;33m,\u001b[0m \u001b[0mavg_cdmg_mul_lion\u001b[0m\u001b[1;33m[\u001b[0m\u001b[0midx\u001b[0m\u001b[1;33m]\u001b[0m\u001b[1;33m)\u001b[0m\u001b[1;33m\u001b[0m\u001b[1;33m\u001b[0m\u001b[0m\n\u001b[0m\u001b[0;32m     32\u001b[0m \u001b[1;33m\u001b[0m\u001b[0m\n\u001b[0;32m     33\u001b[0m     \u001b[0mfig\u001b[0m\u001b[1;33m.\u001b[0m\u001b[0mcanvas\u001b[0m\u001b[1;33m.\u001b[0m\u001b[0mdraw_idle\u001b[0m\u001b[1;33m(\u001b[0m\u001b[1;33m)\u001b[0m\u001b[1;33m\u001b[0m\u001b[1;33m\u001b[0m\u001b[0m\n",
          "\u001b[1;31mAttributeError\u001b[0m: 'list' object has no attribute 'set_data'"
         ]
        }
       ]
      }
     },
     "c10f7d8272be4362a4d62b34f7cb2903": {
      "model_module": "@jupyter-widgets/base",
      "model_module_version": "1.1.0",
      "model_name": "LayoutModel",
      "state": {}
     },
     "c1b095e5179a4774ae2a7fe464df9d6b": {
      "model_module": "@jupyter-widgets/base",
      "model_module_version": "1.1.0",
      "model_name": "LayoutModel",
      "state": {}
     },
     "c2adc1e4cbde45c1881d10118f559b9c": {
      "model_module": "@jupyter-widgets/controls",
      "model_module_version": "1.4.0",
      "model_name": "VBoxModel",
      "state": {
       "_dom_classes": [
        "widget-interact"
       ],
       "children": [
        "IPY_MODEL_8808bebbf100468aa23d47fafca63c1a",
        "IPY_MODEL_b9773489a6e34874b3b8ebbb48e4b8f8"
       ],
       "layout": "IPY_MODEL_7b7bb510af324e10b6f4a8d421e03ef0"
      }
     },
     "c5ad75ba5a2442fcb0dff16b2eb4cec0": {
      "model_module": "@jupyter-widgets/controls",
      "model_module_version": "1.4.0",
      "model_name": "VBoxModel",
      "state": {
       "_dom_classes": [
        "widget-interact"
       ],
       "children": [
        "IPY_MODEL_99b9e717a14042479493309dc6c2a665"
       ],
       "layout": "IPY_MODEL_5c80dbd89b9e4892ba5c44f73191563f"
      }
     },
     "c6ee61001d5840228641b5ae47d3f47f": {
      "model_module": "@jupyter-widgets/controls",
      "model_module_version": "1.4.0",
      "model_name": "SliderStyleModel",
      "state": {
       "description_width": ""
      }
     },
     "c84b7df99ec8440f961dfa2d759155dd": {
      "model_module": "@jupyter-widgets/base",
      "model_module_version": "1.1.0",
      "model_name": "LayoutModel",
      "state": {}
     },
     "c8cae85736e846e8a204eafb4afe5bee": {
      "model_module": "@jupyter-widgets/controls",
      "model_module_version": "1.4.0",
      "model_name": "IntSliderModel",
      "state": {
       "description": "Crit Rate %:",
       "layout": "IPY_MODEL_8c3a33a3c14349eab0d2cc122fb3c599",
       "style": "IPY_MODEL_92182a2ad4504a7294aced08ec6eaff4",
       "value": 41
      }
     },
     "c98e400816e64f8bae3ff47d096693b0": {
      "model_module": "@jupyter-widgets/base",
      "model_module_version": "1.1.0",
      "model_name": "LayoutModel",
      "state": {}
     },
     "cab3c3e3854544f79adafb93d5cbd739": {
      "model_module": "@jupyter-widgets/controls",
      "model_module_version": "1.4.0",
      "model_name": "IntSliderModel",
      "state": {
       "description": "Crit Rate %:",
       "layout": "IPY_MODEL_f0e5a5c6e47f4ec0b82cd6cb34ffe31e",
       "style": "IPY_MODEL_0f10807c82e14b6fa32e30a29df625f4",
       "value": 30
      }
     },
     "cc8d6c2be83a4141be87b355d4f89ffd": {
      "model_module": "@jupyter-widgets/controls",
      "model_module_version": "1.4.0",
      "model_name": "IntSliderModel",
      "state": {
       "description": "Crit Rate %:",
       "layout": "IPY_MODEL_a0963b8f150d4c049dd6e57251b75904",
       "style": "IPY_MODEL_17424171b85147f090e9b6501a2476a7",
       "value": 30
      }
     },
     "ce586699f2c0404da7e70335a063aa50": {
      "model_module": "@jupyter-widgets/base",
      "model_module_version": "1.1.0",
      "model_name": "LayoutModel",
      "state": {}
     },
     "cf012a532c9f41e1a33ac969fde7099e": {
      "model_module": "@jupyter-widgets/controls",
      "model_module_version": "1.4.0",
      "model_name": "IntSliderModel",
      "state": {
       "description": "Crit Rate %:",
       "layout": "IPY_MODEL_5689924e5d6c41aeb3e430c84e6e9fec",
       "style": "IPY_MODEL_0bd36371e24f48979ef2e063244d7a6d",
       "value": 41
      }
     },
     "cf1d6e232c1b439e8d4710a82f5f26e2": {
      "model_module": "@jupyter-widgets/controls",
      "model_module_version": "1.4.0",
      "model_name": "VBoxModel",
      "state": {
       "_dom_classes": [
        "widget-interact"
       ],
       "layout": "IPY_MODEL_f0018e8f3c634456be8bf2c7f25d99f1"
      }
     },
     "d0dedbe8a14d46cb8b790554002e47e9": {
      "model_module": "@jupyter-widgets/base",
      "model_module_version": "1.1.0",
      "model_name": "LayoutModel",
      "state": {}
     },
     "d0fcd96117d8489eafe666bd12258d62": {
      "model_module": "@jupyter-widgets/base",
      "model_module_version": "1.1.0",
      "model_name": "LayoutModel",
      "state": {}
     },
     "d16075a2278042e7816444bd2d18c22c": {
      "model_module": "@jupyter-widgets/controls",
      "model_module_version": "1.4.0",
      "model_name": "SliderStyleModel",
      "state": {
       "description_width": ""
      }
     },
     "d29e815bdb764d30824409195c53154a": {
      "model_module": "@jupyter-widgets/base",
      "model_module_version": "1.1.0",
      "model_name": "LayoutModel",
      "state": {}
     },
     "d3ec658e3a82458096a285320d98670e": {
      "model_module": "@jupyter-widgets/base",
      "model_module_version": "1.1.0",
      "model_name": "LayoutModel",
      "state": {}
     },
     "d5f1f4934c2f441aa5522ce3dd3effad": {
      "model_module": "@jupyter-widgets/controls",
      "model_module_version": "1.4.0",
      "model_name": "IntSliderModel",
      "state": {
       "description": "Crit Rate %:",
       "layout": "IPY_MODEL_951a7169461144308df331d1337f6aa5",
       "style": "IPY_MODEL_691b74dca9924b88991b676ef46ce01d",
       "value": 30
      }
     },
     "d6b155430ce6401e94641463d1146346": {
      "model_module": "@jupyter-widgets/controls",
      "model_module_version": "1.4.0",
      "model_name": "VBoxModel",
      "state": {
       "_dom_classes": [
        "widget-interact"
       ],
       "children": [
        "IPY_MODEL_d5f1f4934c2f441aa5522ce3dd3effad",
        "IPY_MODEL_c0ca4e618d074778a3ba8596b1d5bfe6"
       ],
       "layout": "IPY_MODEL_1184980417544eed9e1ad46287d95536"
      }
     },
     "d8112f2a9fd84715b10f77744f426550": {
      "model_module": "@jupyter-widgets/output",
      "model_module_version": "1.0.0",
      "model_name": "OutputModel",
      "state": {
       "layout": "IPY_MODEL_548981648ba243ab8f54d052726b20b6"
      }
     },
     "d86c891153554a909fa625e4f2857b40": {
      "model_module": "@jupyter-widgets/base",
      "model_module_version": "1.1.0",
      "model_name": "LayoutModel",
      "state": {}
     },
     "d96e1c0ce8894c149a27b7875e33ce08": {
      "model_module": "@jupyter-widgets/controls",
      "model_module_version": "1.4.0",
      "model_name": "VBoxModel",
      "state": {
       "_dom_classes": [
        "widget-interact"
       ],
       "children": [
        "IPY_MODEL_16738ace2a9543d585a1dae60930fd7e",
        "IPY_MODEL_f0455eea7e1945e48632e66b49ced250"
       ],
       "layout": "IPY_MODEL_02aa5b94a8b64e5ea8e17a53c9b59202"
      }
     },
     "d9da46aeebbe4b61a0a430eed64a32f3": {
      "model_module": "@jupyter-widgets/base",
      "model_module_version": "1.1.0",
      "model_name": "LayoutModel",
      "state": {}
     },
     "dc7f2cdad172417b855a5d277dae3d29": {
      "model_module": "@jupyter-widgets/controls",
      "model_module_version": "1.4.0",
      "model_name": "VBoxModel",
      "state": {
       "_dom_classes": [
        "widget-interact"
       ],
       "children": [
        "IPY_MODEL_bcca3ce5aaa84c19a5e087ecc490a487",
        "IPY_MODEL_012c1c89972c4880b2bb6509f4986dc4"
       ],
       "layout": "IPY_MODEL_d0fcd96117d8489eafe666bd12258d62"
      }
     },
     "e0f8210be5ff4069a7e3e5c8179687e1": {
      "model_module": "@jupyter-widgets/output",
      "model_module_version": "1.0.0",
      "model_name": "OutputModel",
      "state": {
       "layout": "IPY_MODEL_943c587d68aa49829e3c3d153ebfc480"
      }
     },
     "e0fd728adef9404ebfaed531b2bf5c4b": {
      "model_module": "@jupyter-widgets/controls",
      "model_module_version": "1.4.0",
      "model_name": "VBoxModel",
      "state": {
       "_dom_classes": [
        "widget-interact"
       ],
       "children": [
        "IPY_MODEL_68ceedd3bae14082b478b426a66c78bb",
        "IPY_MODEL_223a2545231443bd871979d63d52207e"
       ],
       "layout": "IPY_MODEL_c1b095e5179a4774ae2a7fe464df9d6b"
      }
     },
     "e6f934da4bba4ab9bcbd611e6bbb8fba": {
      "model_module": "@jupyter-widgets/controls",
      "model_module_version": "1.4.0",
      "model_name": "VBoxModel",
      "state": {
       "_dom_classes": [
        "widget-interact"
       ],
       "children": [
        "IPY_MODEL_708f3221d2fe48f5ac9199fb8dc50f00",
        "IPY_MODEL_590f8e647ee64438b444b0977abd43fe"
       ],
       "layout": "IPY_MODEL_2f7c2149ed8f438b908a02ad309c4c36"
      }
     },
     "e6fed208f8c94a13b6344873cad59003": {
      "model_module": "@jupyter-widgets/controls",
      "model_module_version": "1.4.0",
      "model_name": "IntSliderModel",
      "state": {
       "description": "Crit Rate %:",
       "layout": "IPY_MODEL_b5e9458a17094572b61bbfabc0747f72",
       "style": "IPY_MODEL_4016008d756e4282a2c1391fbefa86b6",
       "value": 30
      }
     },
     "e76f93d5856d4147b28f00e64b77fd14": {
      "model_module": "@jupyter-widgets/base",
      "model_module_version": "1.1.0",
      "model_name": "LayoutModel",
      "state": {}
     },
     "eae076dcb393410cbd2c2e35adf577fa": {
      "model_module": "@jupyter-widgets/controls",
      "model_module_version": "1.4.0",
      "model_name": "SliderStyleModel",
      "state": {
       "description_width": ""
      }
     },
     "ec746842d5874e0abb77816fa4610be1": {
      "model_module": "@jupyter-widgets/base",
      "model_module_version": "1.1.0",
      "model_name": "LayoutModel",
      "state": {}
     },
     "ee2989382e9040cfb2dbbb47bcaca660": {
      "model_module": "@jupyter-widgets/controls",
      "model_module_version": "1.4.0",
      "model_name": "VBoxModel",
      "state": {
       "_dom_classes": [
        "widget-interact"
       ],
       "children": [
        "IPY_MODEL_cab3c3e3854544f79adafb93d5cbd739",
        "IPY_MODEL_4291f52d5c5545e4b021c3691816fbda"
       ],
       "layout": "IPY_MODEL_89d318dbf6b547348c1c11bc8307cee8"
      }
     },
     "ef58b31f642d4aad84cf22dba60a4cbe": {
      "model_module": "@jupyter-widgets/controls",
      "model_module_version": "1.4.0",
      "model_name": "IntSliderModel",
      "state": {
       "description": "Crit Rate %:",
       "layout": "IPY_MODEL_7b5f06c7668f4170a1104b5f0bd07d30",
       "style": "IPY_MODEL_59c7b351c9be4523b9a8d4f312e7dcf3",
       "value": 30
      }
     },
     "ef942d741d69409387fce79cf915fd4d": {
      "model_module": "@jupyter-widgets/base",
      "model_module_version": "1.1.0",
      "model_name": "LayoutModel",
      "state": {}
     },
     "efd70cc111764af58bb019933a7ffcc6": {
      "model_module": "@jupyter-widgets/controls",
      "model_module_version": "1.4.0",
      "model_name": "VBoxModel",
      "state": {
       "_dom_classes": [
        "widget-interact"
       ],
       "children": [
        "IPY_MODEL_718aef25edcf4b7f8cab38cb1134addd"
       ],
       "layout": "IPY_MODEL_514569134c44413f99dd4e9cc3a868c6"
      }
     },
     "f0018e8f3c634456be8bf2c7f25d99f1": {
      "model_module": "@jupyter-widgets/base",
      "model_module_version": "1.1.0",
      "model_name": "LayoutModel",
      "state": {}
     },
     "f039c5dba12d49cb8fbd6b5b54396bb0": {
      "model_module": "@jupyter-widgets/output",
      "model_module_version": "1.0.0",
      "model_name": "OutputModel",
      "state": {
       "layout": "IPY_MODEL_5815166c3e9347f19e1e2635695d5632"
      }
     },
     "f0455eea7e1945e48632e66b49ced250": {
      "model_module": "@jupyter-widgets/output",
      "model_module_version": "1.0.0",
      "model_name": "OutputModel",
      "state": {
       "layout": "IPY_MODEL_c10f7d8272be4362a4d62b34f7cb2903"
      }
     },
     "f0e5a5c6e47f4ec0b82cd6cb34ffe31e": {
      "model_module": "@jupyter-widgets/base",
      "model_module_version": "1.1.0",
      "model_name": "LayoutModel",
      "state": {}
     },
     "f33ea62ac8e54d54823bc416ead7ab04": {
      "model_module": "@jupyter-widgets/base",
      "model_module_version": "1.1.0",
      "model_name": "LayoutModel",
      "state": {}
     },
     "f4e94d62bd14499f923a68f13cbd6986": {
      "model_module": "@jupyter-widgets/base",
      "model_module_version": "1.1.0",
      "model_name": "LayoutModel",
      "state": {}
     },
     "f9fc199760c64bd29e333aff4af7315e": {
      "model_module": "@jupyter-widgets/base",
      "model_module_version": "1.1.0",
      "model_name": "LayoutModel",
      "state": {}
     },
     "fa885a0958fc429ebbf8b4b2a89b376f": {
      "model_module": "@jupyter-widgets/output",
      "model_module_version": "1.0.0",
      "model_name": "OutputModel",
      "state": {
       "layout": "IPY_MODEL_8aff951a337b4fd28f16bb9719374dd4"
      }
     },
     "fd91d58257e6412ebe15a3e7d7c19d0f": {
      "model_module": "@jupyter-widgets/output",
      "model_module_version": "1.0.0",
      "model_name": "OutputModel",
      "state": {
       "layout": "IPY_MODEL_4b491eff9fe34b1ab66fefb944df627d"
      }
     },
     "fdc3b58092634a0c8736c4d0b5f1a0a9": {
      "model_module": "@jupyter-widgets/controls",
      "model_module_version": "1.4.0",
      "model_name": "VBoxModel",
      "state": {
       "_dom_classes": [
        "widget-interact"
       ],
       "children": [
        "IPY_MODEL_6eae6e3e4dcd4029bff4b2642dd6f9c6",
        "IPY_MODEL_600c122b07ab493496ba688ddb863c5e"
       ],
       "layout": "IPY_MODEL_d9da46aeebbe4b61a0a430eed64a32f3"
      }
     }
    },
    "version_major": 2,
    "version_minor": 0
   }
  }
 },
 "nbformat": 4,
 "nbformat_minor": 5
}
